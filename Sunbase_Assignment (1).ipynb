{
  "nbformat": 4,
  "nbformat_minor": 0,
  "metadata": {
    "colab": {
      "provenance": []
    },
    "kernelspec": {
      "name": "python3",
      "display_name": "Python 3"
    },
    "language_info": {
      "name": "python"
    }
  },
  "cells": [
    {
      "cell_type": "code",
      "source": [
        "import numpy as np\n",
        "import matplotlib.pyplot as plt\n",
        "import pandas as pd\n",
        "import seaborn as sns"
      ],
      "metadata": {
        "id": "Uff_MhlqxfPV"
      },
      "execution_count": null,
      "outputs": []
    },
    {
      "cell_type": "code",
      "source": [
        "df = pd.read_excel('customer_churn_large_dataset.xlsx')"
      ],
      "metadata": {
        "id": "mSOxNkks3dGh"
      },
      "execution_count": null,
      "outputs": []
    },
    {
      "cell_type": "code",
      "source": [
        "df.head()"
      ],
      "metadata": {
        "colab": {
          "base_uri": "https://localhost:8080/",
          "height": 206
        },
        "id": "pU54rE2HCUbr",
        "outputId": "71b3e2ec-364e-43aa-d511-2c539e9ae8f4"
      },
      "execution_count": null,
      "outputs": [
        {
          "output_type": "execute_result",
          "data": {
            "text/plain": [
              "        Age  Gender  Location  Subscription_Length_Months  Monthly_Bill  \\\n",
              "0  1.241670       1         2                    0.651115      0.410606   \n",
              "1  1.176226       0         4                   -1.658879     -0.805374   \n",
              "2 -1.310651       0         2                   -1.081380      1.009204   \n",
              "3 -0.525321       0         3                   -1.370129      1.625597   \n",
              "4  0.129120       0         3                    0.939864     -0.341720   \n",
              "\n",
              "   Total_Usage_GB  Churn  \n",
              "0       -0.294289      0  \n",
              "1       -0.784852      0  \n",
              "2        1.422681      0  \n",
              "3        0.173279      1  \n",
              "4       -0.064338      0  "
            ],
            "text/html": [
              "\n",
              "  <div id=\"df-69a11ec5-f501-42b8-8d5e-437ddb95a9a8\" class=\"colab-df-container\">\n",
              "    <div>\n",
              "<style scoped>\n",
              "    .dataframe tbody tr th:only-of-type {\n",
              "        vertical-align: middle;\n",
              "    }\n",
              "\n",
              "    .dataframe tbody tr th {\n",
              "        vertical-align: top;\n",
              "    }\n",
              "\n",
              "    .dataframe thead th {\n",
              "        text-align: right;\n",
              "    }\n",
              "</style>\n",
              "<table border=\"1\" class=\"dataframe\">\n",
              "  <thead>\n",
              "    <tr style=\"text-align: right;\">\n",
              "      <th></th>\n",
              "      <th>Age</th>\n",
              "      <th>Gender</th>\n",
              "      <th>Location</th>\n",
              "      <th>Subscription_Length_Months</th>\n",
              "      <th>Monthly_Bill</th>\n",
              "      <th>Total_Usage_GB</th>\n",
              "      <th>Churn</th>\n",
              "    </tr>\n",
              "  </thead>\n",
              "  <tbody>\n",
              "    <tr>\n",
              "      <th>0</th>\n",
              "      <td>1.241670</td>\n",
              "      <td>1</td>\n",
              "      <td>2</td>\n",
              "      <td>0.651115</td>\n",
              "      <td>0.410606</td>\n",
              "      <td>-0.294289</td>\n",
              "      <td>0</td>\n",
              "    </tr>\n",
              "    <tr>\n",
              "      <th>1</th>\n",
              "      <td>1.176226</td>\n",
              "      <td>0</td>\n",
              "      <td>4</td>\n",
              "      <td>-1.658879</td>\n",
              "      <td>-0.805374</td>\n",
              "      <td>-0.784852</td>\n",
              "      <td>0</td>\n",
              "    </tr>\n",
              "    <tr>\n",
              "      <th>2</th>\n",
              "      <td>-1.310651</td>\n",
              "      <td>0</td>\n",
              "      <td>2</td>\n",
              "      <td>-1.081380</td>\n",
              "      <td>1.009204</td>\n",
              "      <td>1.422681</td>\n",
              "      <td>0</td>\n",
              "    </tr>\n",
              "    <tr>\n",
              "      <th>3</th>\n",
              "      <td>-0.525321</td>\n",
              "      <td>0</td>\n",
              "      <td>3</td>\n",
              "      <td>-1.370129</td>\n",
              "      <td>1.625597</td>\n",
              "      <td>0.173279</td>\n",
              "      <td>1</td>\n",
              "    </tr>\n",
              "    <tr>\n",
              "      <th>4</th>\n",
              "      <td>0.129120</td>\n",
              "      <td>0</td>\n",
              "      <td>3</td>\n",
              "      <td>0.939864</td>\n",
              "      <td>-0.341720</td>\n",
              "      <td>-0.064338</td>\n",
              "      <td>0</td>\n",
              "    </tr>\n",
              "  </tbody>\n",
              "</table>\n",
              "</div>\n",
              "    <div class=\"colab-df-buttons\">\n",
              "\n",
              "  <div class=\"colab-df-container\">\n",
              "    <button class=\"colab-df-convert\" onclick=\"convertToInteractive('df-69a11ec5-f501-42b8-8d5e-437ddb95a9a8')\"\n",
              "            title=\"Convert this dataframe to an interactive table.\"\n",
              "            style=\"display:none;\">\n",
              "\n",
              "  <svg xmlns=\"http://www.w3.org/2000/svg\" height=\"24px\" viewBox=\"0 -960 960 960\">\n",
              "    <path d=\"M120-120v-720h720v720H120Zm60-500h600v-160H180v160Zm220 220h160v-160H400v160Zm0 220h160v-160H400v160ZM180-400h160v-160H180v160Zm440 0h160v-160H620v160ZM180-180h160v-160H180v160Zm440 0h160v-160H620v160Z\"/>\n",
              "  </svg>\n",
              "    </button>\n",
              "\n",
              "  <style>\n",
              "    .colab-df-container {\n",
              "      display:flex;\n",
              "      gap: 12px;\n",
              "    }\n",
              "\n",
              "    .colab-df-convert {\n",
              "      background-color: #E8F0FE;\n",
              "      border: none;\n",
              "      border-radius: 50%;\n",
              "      cursor: pointer;\n",
              "      display: none;\n",
              "      fill: #1967D2;\n",
              "      height: 32px;\n",
              "      padding: 0 0 0 0;\n",
              "      width: 32px;\n",
              "    }\n",
              "\n",
              "    .colab-df-convert:hover {\n",
              "      background-color: #E2EBFA;\n",
              "      box-shadow: 0px 1px 2px rgba(60, 64, 67, 0.3), 0px 1px 3px 1px rgba(60, 64, 67, 0.15);\n",
              "      fill: #174EA6;\n",
              "    }\n",
              "\n",
              "    .colab-df-buttons div {\n",
              "      margin-bottom: 4px;\n",
              "    }\n",
              "\n",
              "    [theme=dark] .colab-df-convert {\n",
              "      background-color: #3B4455;\n",
              "      fill: #D2E3FC;\n",
              "    }\n",
              "\n",
              "    [theme=dark] .colab-df-convert:hover {\n",
              "      background-color: #434B5C;\n",
              "      box-shadow: 0px 1px 3px 1px rgba(0, 0, 0, 0.15);\n",
              "      filter: drop-shadow(0px 1px 2px rgba(0, 0, 0, 0.3));\n",
              "      fill: #FFFFFF;\n",
              "    }\n",
              "  </style>\n",
              "\n",
              "    <script>\n",
              "      const buttonEl =\n",
              "        document.querySelector('#df-69a11ec5-f501-42b8-8d5e-437ddb95a9a8 button.colab-df-convert');\n",
              "      buttonEl.style.display =\n",
              "        google.colab.kernel.accessAllowed ? 'block' : 'none';\n",
              "\n",
              "      async function convertToInteractive(key) {\n",
              "        const element = document.querySelector('#df-69a11ec5-f501-42b8-8d5e-437ddb95a9a8');\n",
              "        const dataTable =\n",
              "          await google.colab.kernel.invokeFunction('convertToInteractive',\n",
              "                                                    [key], {});\n",
              "        if (!dataTable) return;\n",
              "\n",
              "        const docLinkHtml = 'Like what you see? Visit the ' +\n",
              "          '<a target=\"_blank\" href=https://colab.research.google.com/notebooks/data_table.ipynb>data table notebook</a>'\n",
              "          + ' to learn more about interactive tables.';\n",
              "        element.innerHTML = '';\n",
              "        dataTable['output_type'] = 'display_data';\n",
              "        await google.colab.output.renderOutput(dataTable, element);\n",
              "        const docLink = document.createElement('div');\n",
              "        docLink.innerHTML = docLinkHtml;\n",
              "        element.appendChild(docLink);\n",
              "      }\n",
              "    </script>\n",
              "  </div>\n",
              "\n",
              "\n",
              "<div id=\"df-6f40b1a3-d093-45ef-835f-16839dc293be\">\n",
              "  <button class=\"colab-df-quickchart\" onclick=\"quickchart('df-6f40b1a3-d093-45ef-835f-16839dc293be')\"\n",
              "            title=\"Suggest charts.\"\n",
              "            style=\"display:none;\">\n",
              "\n",
              "<svg xmlns=\"http://www.w3.org/2000/svg\" height=\"24px\"viewBox=\"0 0 24 24\"\n",
              "     width=\"24px\">\n",
              "    <g>\n",
              "        <path d=\"M19 3H5c-1.1 0-2 .9-2 2v14c0 1.1.9 2 2 2h14c1.1 0 2-.9 2-2V5c0-1.1-.9-2-2-2zM9 17H7v-7h2v7zm4 0h-2V7h2v10zm4 0h-2v-4h2v4z\"/>\n",
              "    </g>\n",
              "</svg>\n",
              "  </button>\n",
              "\n",
              "<style>\n",
              "  .colab-df-quickchart {\n",
              "      --bg-color: #E8F0FE;\n",
              "      --fill-color: #1967D2;\n",
              "      --hover-bg-color: #E2EBFA;\n",
              "      --hover-fill-color: #174EA6;\n",
              "      --disabled-fill-color: #AAA;\n",
              "      --disabled-bg-color: #DDD;\n",
              "  }\n",
              "\n",
              "  [theme=dark] .colab-df-quickchart {\n",
              "      --bg-color: #3B4455;\n",
              "      --fill-color: #D2E3FC;\n",
              "      --hover-bg-color: #434B5C;\n",
              "      --hover-fill-color: #FFFFFF;\n",
              "      --disabled-bg-color: #3B4455;\n",
              "      --disabled-fill-color: #666;\n",
              "  }\n",
              "\n",
              "  .colab-df-quickchart {\n",
              "    background-color: var(--bg-color);\n",
              "    border: none;\n",
              "    border-radius: 50%;\n",
              "    cursor: pointer;\n",
              "    display: none;\n",
              "    fill: var(--fill-color);\n",
              "    height: 32px;\n",
              "    padding: 0;\n",
              "    width: 32px;\n",
              "  }\n",
              "\n",
              "  .colab-df-quickchart:hover {\n",
              "    background-color: var(--hover-bg-color);\n",
              "    box-shadow: 0 1px 2px rgba(60, 64, 67, 0.3), 0 1px 3px 1px rgba(60, 64, 67, 0.15);\n",
              "    fill: var(--button-hover-fill-color);\n",
              "  }\n",
              "\n",
              "  .colab-df-quickchart-complete:disabled,\n",
              "  .colab-df-quickchart-complete:disabled:hover {\n",
              "    background-color: var(--disabled-bg-color);\n",
              "    fill: var(--disabled-fill-color);\n",
              "    box-shadow: none;\n",
              "  }\n",
              "\n",
              "  .colab-df-spinner {\n",
              "    border: 2px solid var(--fill-color);\n",
              "    border-color: transparent;\n",
              "    border-bottom-color: var(--fill-color);\n",
              "    animation:\n",
              "      spin 1s steps(1) infinite;\n",
              "  }\n",
              "\n",
              "  @keyframes spin {\n",
              "    0% {\n",
              "      border-color: transparent;\n",
              "      border-bottom-color: var(--fill-color);\n",
              "      border-left-color: var(--fill-color);\n",
              "    }\n",
              "    20% {\n",
              "      border-color: transparent;\n",
              "      border-left-color: var(--fill-color);\n",
              "      border-top-color: var(--fill-color);\n",
              "    }\n",
              "    30% {\n",
              "      border-color: transparent;\n",
              "      border-left-color: var(--fill-color);\n",
              "      border-top-color: var(--fill-color);\n",
              "      border-right-color: var(--fill-color);\n",
              "    }\n",
              "    40% {\n",
              "      border-color: transparent;\n",
              "      border-right-color: var(--fill-color);\n",
              "      border-top-color: var(--fill-color);\n",
              "    }\n",
              "    60% {\n",
              "      border-color: transparent;\n",
              "      border-right-color: var(--fill-color);\n",
              "    }\n",
              "    80% {\n",
              "      border-color: transparent;\n",
              "      border-right-color: var(--fill-color);\n",
              "      border-bottom-color: var(--fill-color);\n",
              "    }\n",
              "    90% {\n",
              "      border-color: transparent;\n",
              "      border-bottom-color: var(--fill-color);\n",
              "    }\n",
              "  }\n",
              "</style>\n",
              "\n",
              "  <script>\n",
              "    async function quickchart(key) {\n",
              "      const quickchartButtonEl =\n",
              "        document.querySelector('#' + key + ' button');\n",
              "      quickchartButtonEl.disabled = true;  // To prevent multiple clicks.\n",
              "      quickchartButtonEl.classList.add('colab-df-spinner');\n",
              "      try {\n",
              "        const charts = await google.colab.kernel.invokeFunction(\n",
              "            'suggestCharts', [key], {});\n",
              "      } catch (error) {\n",
              "        console.error('Error during call to suggestCharts:', error);\n",
              "      }\n",
              "      quickchartButtonEl.classList.remove('colab-df-spinner');\n",
              "      quickchartButtonEl.classList.add('colab-df-quickchart-complete');\n",
              "    }\n",
              "    (() => {\n",
              "      let quickchartButtonEl =\n",
              "        document.querySelector('#df-6f40b1a3-d093-45ef-835f-16839dc293be button');\n",
              "      quickchartButtonEl.style.display =\n",
              "        google.colab.kernel.accessAllowed ? 'block' : 'none';\n",
              "    })();\n",
              "  </script>\n",
              "</div>\n",
              "    </div>\n",
              "  </div>\n"
            ]
          },
          "metadata": {},
          "execution_count": 57
        }
      ]
    },
    {
      "cell_type": "code",
      "source": [
        "df.shape"
      ],
      "metadata": {
        "colab": {
          "base_uri": "https://localhost:8080/"
        },
        "id": "Ga_k5KztCXb8",
        "outputId": "d6adfa78-e19f-4e8a-91cf-4e80e86e5115"
      },
      "execution_count": null,
      "outputs": [
        {
          "output_type": "execute_result",
          "data": {
            "text/plain": [
              "(100000, 7)"
            ]
          },
          "metadata": {},
          "execution_count": 58
        }
      ]
    },
    {
      "cell_type": "code",
      "source": [
        "df.info()"
      ],
      "metadata": {
        "colab": {
          "base_uri": "https://localhost:8080/"
        },
        "id": "T2f_Hx__CYS5",
        "outputId": "01bd63cc-e18f-4892-c545-6d6f0e73a369"
      },
      "execution_count": null,
      "outputs": [
        {
          "output_type": "stream",
          "name": "stdout",
          "text": [
            "<class 'pandas.core.frame.DataFrame'>\n",
            "RangeIndex: 100000 entries, 0 to 99999\n",
            "Data columns (total 7 columns):\n",
            " #   Column                      Non-Null Count   Dtype  \n",
            "---  ------                      --------------   -----  \n",
            " 0   Age                         100000 non-null  float64\n",
            " 1   Gender                      100000 non-null  int64  \n",
            " 2   Location                    100000 non-null  int64  \n",
            " 3   Subscription_Length_Months  100000 non-null  float64\n",
            " 4   Monthly_Bill                100000 non-null  float64\n",
            " 5   Total_Usage_GB              100000 non-null  float64\n",
            " 6   Churn                       100000 non-null  int64  \n",
            "dtypes: float64(4), int64(3)\n",
            "memory usage: 5.3 MB\n"
          ]
        }
      ]
    },
    {
      "cell_type": "code",
      "source": [
        "df.describe([0.05,0.25,0.50,0.75,0.90,0.95,0.99])"
      ],
      "metadata": {
        "colab": {
          "base_uri": "https://localhost:8080/",
          "height": 446
        },
        "id": "mRF950q_CdpU",
        "outputId": "8ae2f813-7a54-4866-e0fb-6e5ded477f30"
      },
      "execution_count": null,
      "outputs": [
        {
          "output_type": "execute_result",
          "data": {
            "text/plain": [
              "                Age         Gender       Location  Subscription_Length_Months  \\\n",
              "count  1.000000e+05  100000.000000  100000.000000                1.000000e+05   \n",
              "mean  -2.081890e-17       0.497840       1.995840               -7.602807e-18   \n",
              "std    1.000005e+00       0.499998       1.411638                1.000005e+00   \n",
              "min   -1.703316e+00       0.000000       0.000000               -1.658879e+00   \n",
              "5%    -1.572428e+00       0.000000       0.000000               -1.514504e+00   \n",
              "25%   -8.525421e-01       0.000000       1.000000               -9.370056e-01   \n",
              "50%   -1.768301e-03       0.000000       2.000000               -7.075799e-02   \n",
              "75%    8.490055e-01       1.000000       3.000000                9.398642e-01   \n",
              "90%    1.372559e+00       1.000000       4.000000                1.372988e+00   \n",
              "95%    1.568891e+00       1.000000       4.000000                1.517363e+00   \n",
              "99%    1.699779e+00       1.000000       4.000000                1.661737e+00   \n",
              "max    1.699779e+00       1.000000       4.000000                1.661737e+00   \n",
              "\n",
              "       Monthly_Bill  Total_Usage_GB          Churn  \n",
              "count  1.000000e+05    1.000000e+05  100000.000000  \n",
              "mean  -4.515499e-16    1.552536e-16       0.497790  \n",
              "std    1.000005e+00    1.000005e+00       0.499998  \n",
              "min   -1.732682e+00   -1.719987e+00       0.000000  \n",
              "5%    -1.558194e+00   -1.551356e+00       0.000000  \n",
              "25%   -8.656788e-01   -8.691672e-01       0.000000  \n",
              "50%   -2.135221e-03   -3.017344e-03       0.000000  \n",
              "75%    8.693172e-01    8.631325e-01       1.000000  \n",
              "90%    1.385367e+00    1.392021e+00       1.000000  \n",
              "95%    1.554912e+00    1.560651e+00       1.000000  \n",
              "99%    1.692328e+00    1.698622e+00       1.000000  \n",
              "max    1.727423e+00    1.729282e+00       1.000000  "
            ],
            "text/html": [
              "\n",
              "  <div id=\"df-7116a4b0-2c8d-41d9-aae3-6e93f77fe3d4\" class=\"colab-df-container\">\n",
              "    <div>\n",
              "<style scoped>\n",
              "    .dataframe tbody tr th:only-of-type {\n",
              "        vertical-align: middle;\n",
              "    }\n",
              "\n",
              "    .dataframe tbody tr th {\n",
              "        vertical-align: top;\n",
              "    }\n",
              "\n",
              "    .dataframe thead th {\n",
              "        text-align: right;\n",
              "    }\n",
              "</style>\n",
              "<table border=\"1\" class=\"dataframe\">\n",
              "  <thead>\n",
              "    <tr style=\"text-align: right;\">\n",
              "      <th></th>\n",
              "      <th>Age</th>\n",
              "      <th>Gender</th>\n",
              "      <th>Location</th>\n",
              "      <th>Subscription_Length_Months</th>\n",
              "      <th>Monthly_Bill</th>\n",
              "      <th>Total_Usage_GB</th>\n",
              "      <th>Churn</th>\n",
              "    </tr>\n",
              "  </thead>\n",
              "  <tbody>\n",
              "    <tr>\n",
              "      <th>count</th>\n",
              "      <td>1.000000e+05</td>\n",
              "      <td>100000.000000</td>\n",
              "      <td>100000.000000</td>\n",
              "      <td>1.000000e+05</td>\n",
              "      <td>1.000000e+05</td>\n",
              "      <td>1.000000e+05</td>\n",
              "      <td>100000.000000</td>\n",
              "    </tr>\n",
              "    <tr>\n",
              "      <th>mean</th>\n",
              "      <td>-2.081890e-17</td>\n",
              "      <td>0.497840</td>\n",
              "      <td>1.995840</td>\n",
              "      <td>-7.602807e-18</td>\n",
              "      <td>-4.515499e-16</td>\n",
              "      <td>1.552536e-16</td>\n",
              "      <td>0.497790</td>\n",
              "    </tr>\n",
              "    <tr>\n",
              "      <th>std</th>\n",
              "      <td>1.000005e+00</td>\n",
              "      <td>0.499998</td>\n",
              "      <td>1.411638</td>\n",
              "      <td>1.000005e+00</td>\n",
              "      <td>1.000005e+00</td>\n",
              "      <td>1.000005e+00</td>\n",
              "      <td>0.499998</td>\n",
              "    </tr>\n",
              "    <tr>\n",
              "      <th>min</th>\n",
              "      <td>-1.703316e+00</td>\n",
              "      <td>0.000000</td>\n",
              "      <td>0.000000</td>\n",
              "      <td>-1.658879e+00</td>\n",
              "      <td>-1.732682e+00</td>\n",
              "      <td>-1.719987e+00</td>\n",
              "      <td>0.000000</td>\n",
              "    </tr>\n",
              "    <tr>\n",
              "      <th>5%</th>\n",
              "      <td>-1.572428e+00</td>\n",
              "      <td>0.000000</td>\n",
              "      <td>0.000000</td>\n",
              "      <td>-1.514504e+00</td>\n",
              "      <td>-1.558194e+00</td>\n",
              "      <td>-1.551356e+00</td>\n",
              "      <td>0.000000</td>\n",
              "    </tr>\n",
              "    <tr>\n",
              "      <th>25%</th>\n",
              "      <td>-8.525421e-01</td>\n",
              "      <td>0.000000</td>\n",
              "      <td>1.000000</td>\n",
              "      <td>-9.370056e-01</td>\n",
              "      <td>-8.656788e-01</td>\n",
              "      <td>-8.691672e-01</td>\n",
              "      <td>0.000000</td>\n",
              "    </tr>\n",
              "    <tr>\n",
              "      <th>50%</th>\n",
              "      <td>-1.768301e-03</td>\n",
              "      <td>0.000000</td>\n",
              "      <td>2.000000</td>\n",
              "      <td>-7.075799e-02</td>\n",
              "      <td>-2.135221e-03</td>\n",
              "      <td>-3.017344e-03</td>\n",
              "      <td>0.000000</td>\n",
              "    </tr>\n",
              "    <tr>\n",
              "      <th>75%</th>\n",
              "      <td>8.490055e-01</td>\n",
              "      <td>1.000000</td>\n",
              "      <td>3.000000</td>\n",
              "      <td>9.398642e-01</td>\n",
              "      <td>8.693172e-01</td>\n",
              "      <td>8.631325e-01</td>\n",
              "      <td>1.000000</td>\n",
              "    </tr>\n",
              "    <tr>\n",
              "      <th>90%</th>\n",
              "      <td>1.372559e+00</td>\n",
              "      <td>1.000000</td>\n",
              "      <td>4.000000</td>\n",
              "      <td>1.372988e+00</td>\n",
              "      <td>1.385367e+00</td>\n",
              "      <td>1.392021e+00</td>\n",
              "      <td>1.000000</td>\n",
              "    </tr>\n",
              "    <tr>\n",
              "      <th>95%</th>\n",
              "      <td>1.568891e+00</td>\n",
              "      <td>1.000000</td>\n",
              "      <td>4.000000</td>\n",
              "      <td>1.517363e+00</td>\n",
              "      <td>1.554912e+00</td>\n",
              "      <td>1.560651e+00</td>\n",
              "      <td>1.000000</td>\n",
              "    </tr>\n",
              "    <tr>\n",
              "      <th>99%</th>\n",
              "      <td>1.699779e+00</td>\n",
              "      <td>1.000000</td>\n",
              "      <td>4.000000</td>\n",
              "      <td>1.661737e+00</td>\n",
              "      <td>1.692328e+00</td>\n",
              "      <td>1.698622e+00</td>\n",
              "      <td>1.000000</td>\n",
              "    </tr>\n",
              "    <tr>\n",
              "      <th>max</th>\n",
              "      <td>1.699779e+00</td>\n",
              "      <td>1.000000</td>\n",
              "      <td>4.000000</td>\n",
              "      <td>1.661737e+00</td>\n",
              "      <td>1.727423e+00</td>\n",
              "      <td>1.729282e+00</td>\n",
              "      <td>1.000000</td>\n",
              "    </tr>\n",
              "  </tbody>\n",
              "</table>\n",
              "</div>\n",
              "    <div class=\"colab-df-buttons\">\n",
              "\n",
              "  <div class=\"colab-df-container\">\n",
              "    <button class=\"colab-df-convert\" onclick=\"convertToInteractive('df-7116a4b0-2c8d-41d9-aae3-6e93f77fe3d4')\"\n",
              "            title=\"Convert this dataframe to an interactive table.\"\n",
              "            style=\"display:none;\">\n",
              "\n",
              "  <svg xmlns=\"http://www.w3.org/2000/svg\" height=\"24px\" viewBox=\"0 -960 960 960\">\n",
              "    <path d=\"M120-120v-720h720v720H120Zm60-500h600v-160H180v160Zm220 220h160v-160H400v160Zm0 220h160v-160H400v160ZM180-400h160v-160H180v160Zm440 0h160v-160H620v160ZM180-180h160v-160H180v160Zm440 0h160v-160H620v160Z\"/>\n",
              "  </svg>\n",
              "    </button>\n",
              "\n",
              "  <style>\n",
              "    .colab-df-container {\n",
              "      display:flex;\n",
              "      gap: 12px;\n",
              "    }\n",
              "\n",
              "    .colab-df-convert {\n",
              "      background-color: #E8F0FE;\n",
              "      border: none;\n",
              "      border-radius: 50%;\n",
              "      cursor: pointer;\n",
              "      display: none;\n",
              "      fill: #1967D2;\n",
              "      height: 32px;\n",
              "      padding: 0 0 0 0;\n",
              "      width: 32px;\n",
              "    }\n",
              "\n",
              "    .colab-df-convert:hover {\n",
              "      background-color: #E2EBFA;\n",
              "      box-shadow: 0px 1px 2px rgba(60, 64, 67, 0.3), 0px 1px 3px 1px rgba(60, 64, 67, 0.15);\n",
              "      fill: #174EA6;\n",
              "    }\n",
              "\n",
              "    .colab-df-buttons div {\n",
              "      margin-bottom: 4px;\n",
              "    }\n",
              "\n",
              "    [theme=dark] .colab-df-convert {\n",
              "      background-color: #3B4455;\n",
              "      fill: #D2E3FC;\n",
              "    }\n",
              "\n",
              "    [theme=dark] .colab-df-convert:hover {\n",
              "      background-color: #434B5C;\n",
              "      box-shadow: 0px 1px 3px 1px rgba(0, 0, 0, 0.15);\n",
              "      filter: drop-shadow(0px 1px 2px rgba(0, 0, 0, 0.3));\n",
              "      fill: #FFFFFF;\n",
              "    }\n",
              "  </style>\n",
              "\n",
              "    <script>\n",
              "      const buttonEl =\n",
              "        document.querySelector('#df-7116a4b0-2c8d-41d9-aae3-6e93f77fe3d4 button.colab-df-convert');\n",
              "      buttonEl.style.display =\n",
              "        google.colab.kernel.accessAllowed ? 'block' : 'none';\n",
              "\n",
              "      async function convertToInteractive(key) {\n",
              "        const element = document.querySelector('#df-7116a4b0-2c8d-41d9-aae3-6e93f77fe3d4');\n",
              "        const dataTable =\n",
              "          await google.colab.kernel.invokeFunction('convertToInteractive',\n",
              "                                                    [key], {});\n",
              "        if (!dataTable) return;\n",
              "\n",
              "        const docLinkHtml = 'Like what you see? Visit the ' +\n",
              "          '<a target=\"_blank\" href=https://colab.research.google.com/notebooks/data_table.ipynb>data table notebook</a>'\n",
              "          + ' to learn more about interactive tables.';\n",
              "        element.innerHTML = '';\n",
              "        dataTable['output_type'] = 'display_data';\n",
              "        await google.colab.output.renderOutput(dataTable, element);\n",
              "        const docLink = document.createElement('div');\n",
              "        docLink.innerHTML = docLinkHtml;\n",
              "        element.appendChild(docLink);\n",
              "      }\n",
              "    </script>\n",
              "  </div>\n",
              "\n",
              "\n",
              "<div id=\"df-67612f01-b1b2-4d25-a529-dfcc36fba5f7\">\n",
              "  <button class=\"colab-df-quickchart\" onclick=\"quickchart('df-67612f01-b1b2-4d25-a529-dfcc36fba5f7')\"\n",
              "            title=\"Suggest charts.\"\n",
              "            style=\"display:none;\">\n",
              "\n",
              "<svg xmlns=\"http://www.w3.org/2000/svg\" height=\"24px\"viewBox=\"0 0 24 24\"\n",
              "     width=\"24px\">\n",
              "    <g>\n",
              "        <path d=\"M19 3H5c-1.1 0-2 .9-2 2v14c0 1.1.9 2 2 2h14c1.1 0 2-.9 2-2V5c0-1.1-.9-2-2-2zM9 17H7v-7h2v7zm4 0h-2V7h2v10zm4 0h-2v-4h2v4z\"/>\n",
              "    </g>\n",
              "</svg>\n",
              "  </button>\n",
              "\n",
              "<style>\n",
              "  .colab-df-quickchart {\n",
              "      --bg-color: #E8F0FE;\n",
              "      --fill-color: #1967D2;\n",
              "      --hover-bg-color: #E2EBFA;\n",
              "      --hover-fill-color: #174EA6;\n",
              "      --disabled-fill-color: #AAA;\n",
              "      --disabled-bg-color: #DDD;\n",
              "  }\n",
              "\n",
              "  [theme=dark] .colab-df-quickchart {\n",
              "      --bg-color: #3B4455;\n",
              "      --fill-color: #D2E3FC;\n",
              "      --hover-bg-color: #434B5C;\n",
              "      --hover-fill-color: #FFFFFF;\n",
              "      --disabled-bg-color: #3B4455;\n",
              "      --disabled-fill-color: #666;\n",
              "  }\n",
              "\n",
              "  .colab-df-quickchart {\n",
              "    background-color: var(--bg-color);\n",
              "    border: none;\n",
              "    border-radius: 50%;\n",
              "    cursor: pointer;\n",
              "    display: none;\n",
              "    fill: var(--fill-color);\n",
              "    height: 32px;\n",
              "    padding: 0;\n",
              "    width: 32px;\n",
              "  }\n",
              "\n",
              "  .colab-df-quickchart:hover {\n",
              "    background-color: var(--hover-bg-color);\n",
              "    box-shadow: 0 1px 2px rgba(60, 64, 67, 0.3), 0 1px 3px 1px rgba(60, 64, 67, 0.15);\n",
              "    fill: var(--button-hover-fill-color);\n",
              "  }\n",
              "\n",
              "  .colab-df-quickchart-complete:disabled,\n",
              "  .colab-df-quickchart-complete:disabled:hover {\n",
              "    background-color: var(--disabled-bg-color);\n",
              "    fill: var(--disabled-fill-color);\n",
              "    box-shadow: none;\n",
              "  }\n",
              "\n",
              "  .colab-df-spinner {\n",
              "    border: 2px solid var(--fill-color);\n",
              "    border-color: transparent;\n",
              "    border-bottom-color: var(--fill-color);\n",
              "    animation:\n",
              "      spin 1s steps(1) infinite;\n",
              "  }\n",
              "\n",
              "  @keyframes spin {\n",
              "    0% {\n",
              "      border-color: transparent;\n",
              "      border-bottom-color: var(--fill-color);\n",
              "      border-left-color: var(--fill-color);\n",
              "    }\n",
              "    20% {\n",
              "      border-color: transparent;\n",
              "      border-left-color: var(--fill-color);\n",
              "      border-top-color: var(--fill-color);\n",
              "    }\n",
              "    30% {\n",
              "      border-color: transparent;\n",
              "      border-left-color: var(--fill-color);\n",
              "      border-top-color: var(--fill-color);\n",
              "      border-right-color: var(--fill-color);\n",
              "    }\n",
              "    40% {\n",
              "      border-color: transparent;\n",
              "      border-right-color: var(--fill-color);\n",
              "      border-top-color: var(--fill-color);\n",
              "    }\n",
              "    60% {\n",
              "      border-color: transparent;\n",
              "      border-right-color: var(--fill-color);\n",
              "    }\n",
              "    80% {\n",
              "      border-color: transparent;\n",
              "      border-right-color: var(--fill-color);\n",
              "      border-bottom-color: var(--fill-color);\n",
              "    }\n",
              "    90% {\n",
              "      border-color: transparent;\n",
              "      border-bottom-color: var(--fill-color);\n",
              "    }\n",
              "  }\n",
              "</style>\n",
              "\n",
              "  <script>\n",
              "    async function quickchart(key) {\n",
              "      const quickchartButtonEl =\n",
              "        document.querySelector('#' + key + ' button');\n",
              "      quickchartButtonEl.disabled = true;  // To prevent multiple clicks.\n",
              "      quickchartButtonEl.classList.add('colab-df-spinner');\n",
              "      try {\n",
              "        const charts = await google.colab.kernel.invokeFunction(\n",
              "            'suggestCharts', [key], {});\n",
              "      } catch (error) {\n",
              "        console.error('Error during call to suggestCharts:', error);\n",
              "      }\n",
              "      quickchartButtonEl.classList.remove('colab-df-spinner');\n",
              "      quickchartButtonEl.classList.add('colab-df-quickchart-complete');\n",
              "    }\n",
              "    (() => {\n",
              "      let quickchartButtonEl =\n",
              "        document.querySelector('#df-67612f01-b1b2-4d25-a529-dfcc36fba5f7 button');\n",
              "      quickchartButtonEl.style.display =\n",
              "        google.colab.kernel.accessAllowed ? 'block' : 'none';\n",
              "    })();\n",
              "  </script>\n",
              "</div>\n",
              "    </div>\n",
              "  </div>\n"
            ]
          },
          "metadata": {},
          "execution_count": 60
        }
      ]
    },
    {
      "cell_type": "code",
      "source": [
        "df.duplicated().sum()"
      ],
      "metadata": {
        "colab": {
          "base_uri": "https://localhost:8080/"
        },
        "id": "fWZCKzWOC-Qx",
        "outputId": "60d8f23b-1615-4ec5-9e2a-2ac5d633e46f"
      },
      "execution_count": null,
      "outputs": [
        {
          "output_type": "execute_result",
          "data": {
            "text/plain": [
              "0"
            ]
          },
          "metadata": {},
          "execution_count": 61
        }
      ]
    },
    {
      "cell_type": "code",
      "source": [
        "df.Churn.unique()"
      ],
      "metadata": {
        "colab": {
          "base_uri": "https://localhost:8080/"
        },
        "id": "rVpaWb1qDBsK",
        "outputId": "765731f5-6b0a-4369-b871-07019c8683ac"
      },
      "execution_count": null,
      "outputs": [
        {
          "output_type": "execute_result",
          "data": {
            "text/plain": [
              "array([0, 1])"
            ]
          },
          "metadata": {},
          "execution_count": 62
        }
      ]
    },
    {
      "cell_type": "code",
      "source": [
        "df = df.drop(columns=['CustomerID', 'Name'], axis=1)"
      ],
      "metadata": {
        "id": "yMEZeG403fOz"
      },
      "execution_count": null,
      "outputs": []
    },
    {
      "cell_type": "code",
      "source": [
        "df = df.dropna()"
      ],
      "metadata": {
        "id": "g9VBJd-e3hdW"
      },
      "execution_count": null,
      "outputs": []
    },
    {
      "cell_type": "code",
      "source": [
        "from sklearn.preprocessing import LabelEncoder\n",
        "label_encoder = LabelEncoder()\n",
        "df['Gender'] = label_encoder.fit_transform(df['Gender'])\n",
        "df['Location'] = label_encoder.fit_transform(df['Location'])"
      ],
      "metadata": {
        "id": "yNvDiagL3jjf"
      },
      "execution_count": null,
      "outputs": []
    },
    {
      "cell_type": "code",
      "source": [
        "X = df.drop(columns=['Churn'])\n",
        "y = df['Churn']"
      ],
      "metadata": {
        "id": "4yxOF1ja3lvN"
      },
      "execution_count": null,
      "outputs": []
    },
    {
      "cell_type": "code",
      "source": [
        "df[\"Churn\"].value_counts()"
      ],
      "metadata": {
        "colab": {
          "base_uri": "https://localhost:8080/"
        },
        "id": "SREFOsq0Cj4H",
        "outputId": "8e0c6316-7649-4274-ab3b-2246ddad1c0e"
      },
      "execution_count": null,
      "outputs": [
        {
          "output_type": "execute_result",
          "data": {
            "text/plain": [
              "0    50221\n",
              "1    49779\n",
              "Name: Churn, dtype: int64"
            ]
          },
          "metadata": {},
          "execution_count": 54
        }
      ]
    },
    {
      "cell_type": "code",
      "source": [
        "plt.figure(figsize=(8, 6))\n",
        "\n",
        "sns.countplot(data=df, x='Churn', hue='Churn')\n",
        "\n",
        "plt.xlabel('Churn Status')\n",
        "plt.ylabel('Count')\n",
        "plt.title('Churn Count Plot')\n",
        "\n",
        "plt.show()"
      ],
      "metadata": {
        "colab": {
          "base_uri": "https://localhost:8080/",
          "height": 564
        },
        "id": "mbelWbvKGlmw",
        "outputId": "76847644-6906-48df-c077-b31f32d2d102"
      },
      "execution_count": 66,
      "outputs": [
        {
          "output_type": "display_data",
          "data": {
            "text/plain": [
              "<Figure size 800x600 with 1 Axes>"
            ],
            "image/png": "[encoded data removed]"
          },
          "metadata": {}
        }
      ]
    },
    {
      "cell_type": "code",
      "source": [
        "df['Location'].value_counts()"
      ],
      "metadata": {
        "colab": {
          "base_uri": "https://localhost:8080/"
        },
        "id": "femC_6yoDPBL",
        "outputId": "b4fe5386-065d-4c64-f843-476433079fe1"
      },
      "execution_count": null,
      "outputs": [
        {
          "output_type": "execute_result",
          "data": {
            "text/plain": [
              "1    20157\n",
              "2    20041\n",
              "3    20031\n",
              "0    19958\n",
              "4    19813\n",
              "Name: Location, dtype: int64"
            ]
          },
          "metadata": {},
          "execution_count": 55
        }
      ]
    },
    {
      "cell_type": "code",
      "source": [
        "sns.set(style=\"whitegrid\")\n",
        "plt.figure(figsize=(10, 6))\n",
        "sns.countplot(data=df, x='Location', order=df['Location'].value_counts().index)\n",
        "\n",
        "plt.xticks(rotation=45, ha='right')\n",
        "\n",
        "plt.xlabel('Location')\n",
        "plt.ylabel('Count')\n",
        "plt.title('Location Distribution')\n",
        "\n",
        "plt.tight_layout()\n",
        "plt.show()"
      ],
      "metadata": {
        "colab": {
          "base_uri": "https://localhost:8080/",
          "height": 600
        },
        "id": "31zahUO3GqjS",
        "outputId": "49b37fe4-0200-4ab2-db93-cd1c2be3fcc2"
      },
      "execution_count": 67,
      "outputs": [
        {
          "output_type": "display_data",
          "data": {
            "text/plain": [
              "<Figure size 1000x600 with 1 Axes>"
            ],
            "image/png": "[encoded data removed]"
          },
          "metadata": {}
        }
      ]
    },
    {
      "cell_type": "code",
      "source": [
        "df['Gender'].value_counts()"
      ],
      "metadata": {
        "colab": {
          "base_uri": "https://localhost:8080/"
        },
        "id": "SRwl1QdeDSI8",
        "outputId": "c98a7bf5-e018-432f-8bc4-24a0922b1c0c"
      },
      "execution_count": null,
      "outputs": [
        {
          "output_type": "execute_result",
          "data": {
            "text/plain": [
              "0    50216\n",
              "1    49784\n",
              "Name: Gender, dtype: int64"
            ]
          },
          "metadata": {},
          "execution_count": 56
        }
      ]
    },
    {
      "cell_type": "code",
      "source": [
        "sns.set(style=\"whitegrid\")\n",
        "plt.figure(figsize=(6, 4))\n",
        "sns.countplot(data=df, x='Gender')\n",
        "\n",
        "plt.xlabel('Gender')\n",
        "plt.ylabel('Count')\n",
        "plt.title('Gender Distribution')\n",
        "\n",
        "plt.show()\n"
      ],
      "metadata": {
        "colab": {
          "base_uri": "https://localhost:8080/",
          "height": 419
        },
        "id": "GpGj5DREGx4O",
        "outputId": "25694403-420d-4234-90d7-0d53ed129c62"
      },
      "execution_count": 68,
      "outputs": [
        {
          "output_type": "display_data",
          "data": {
            "text/plain": [
              "<Figure size 600x400 with 1 Axes>"
            ],
            "image/png": "[encoded data removed]"
          },
          "metadata": {}
        }
      ]
    },
    {
      "cell_type": "code",
      "source": [
        "correlation_matrix = df.corr()\n",
        "\n",
        "plt.figure(figsize=(10, 8))\n",
        "\n",
        "sns.heatmap(correlation_matrix, annot=True, cmap='coolwarm', center=0)\n",
        "\n",
        "plt.title('Correlation Heatmap')\n",
        "\n",
        "plt.show()"
      ],
      "metadata": {
        "colab": {
          "base_uri": "https://localhost:8080/",
          "height": 883
        },
        "id": "l-hp964JDjQS",
        "outputId": "67273a4a-eb1d-4970-c931-098ee14c62fb"
      },
      "execution_count": null,
      "outputs": [
        {
          "output_type": "display_data",
          "data": {
            "text/plain": [
              "<Figure size 1000x800 with 2 Axes>"
            ],
            "image/png": "[encoded data removed]"
          },
          "metadata": {}
        }
      ]
    },
    {
      "cell_type": "code",
      "source": [
        "columns_to_scale = ['Age', 'Subscription_Length_Months', 'Monthly_Bill', 'Total_Usage_GB']\n",
        "X_to_scale = df[columns_to_scale]\n",
        "\n",
        "from sklearn.model_selection import train_test_split\n",
        "X_train, X_test, y_train, y_test = train_test_split(X, y, test_size=0.2, random_state=1)\n",
        "\n",
        "from sklearn.preprocessing import StandardScaler\n",
        "scaler = StandardScaler()\n",
        "X_scaled = pd.DataFrame(scaler.fit_transform(X_to_scale), columns=columns_to_scale)\n",
        "df[columns_to_scale] = X_scaled"
      ],
      "metadata": {
        "id": "nLgHj9I2xg8w"
      },
      "execution_count": null,
      "outputs": []
    },
    {
      "cell_type": "code",
      "source": [
        "random_seed = 1"
      ],
      "metadata": {
        "id": "dfITIltj3tEm"
      },
      "execution_count": null,
      "outputs": []
    },
    {
      "cell_type": "markdown",
      "source": [
        "Random Forest"
      ],
      "metadata": {
        "id": "w06wA51K__m4"
      }
    },
    {
      "cell_type": "code",
      "source": [
        "from sklearn.ensemble import RandomForestClassifier\n",
        "model = RandomForestClassifier(random_state=random_seed)\n",
        "model.fit(X_train, y_train)"
      ],
      "metadata": {
        "colab": {
          "base_uri": "https://localhost:8080/",
          "height": 75
        },
        "id": "yExykifq3xS6",
        "outputId": "a3d41bde-1e42-44ef-97dc-4b9e37f24c83"
      },
      "execution_count": null,
      "outputs": [
        {
          "output_type": "execute_result",
          "data": {
            "text/plain": [
              "RandomForestClassifier(random_state=1)"
            ],
            "text/html": [
              "<style>#sk-container-id-1 {color: black;background-color: white;}#sk-container-id-1 pre{padding: 0;}#sk-container-id-1 div.sk-toggleable {background-color: white;}#sk-container-id-1 label.sk-toggleable__label {cursor: pointer;display: block;width: 100%;margin-bottom: 0;padding: 0.3em;box-sizing: border-box;text-align: center;}#sk-container-id-1 label.sk-toggleable__label-arrow:before {content: \"▸\";float: left;margin-right: 0.25em;color: #696969;}#sk-container-id-1 label.sk-toggleable__label-arrow:hover:before {color: black;}#sk-container-id-1 div.sk-estimator:hover label.sk-toggleable__label-arrow:before {color: black;}#sk-container-id-1 div.sk-toggleable__content {max-height: 0;max-width: 0;overflow: hidden;text-align: left;background-color: #f0f8ff;}#sk-container-id-1 div.sk-toggleable__content pre {margin: 0.2em;color: black;border-radius: 0.25em;background-color: #f0f8ff;}#sk-container-id-1 input.sk-toggleable__control:checked~div.sk-toggleable__content {max-height: 200px;max-width: 100%;overflow: auto;}#sk-container-id-1 input.sk-toggleable__control:checked~label.sk-toggleable__label-arrow:before {content: \"▾\";}#sk-container-id-1 div.sk-estimator input.sk-toggleable__control:checked~label.sk-toggleable__label {background-color: #d4ebff;}#sk-container-id-1 div.sk-label input.sk-toggleable__control:checked~label.sk-toggleable__label {background-color: #d4ebff;}#sk-container-id-1 input.sk-hidden--visually {border: 0;clip: rect(1px 1px 1px 1px);clip: rect(1px, 1px, 1px, 1px);height: 1px;margin: -1px;overflow: hidden;padding: 0;position: absolute;width: 1px;}#sk-container-id-1 div.sk-estimator {font-family: monospace;background-color: #f0f8ff;border: 1px dotted black;border-radius: 0.25em;box-sizing: border-box;margin-bottom: 0.5em;}#sk-container-id-1 div.sk-estimator:hover {background-color: #d4ebff;}#sk-container-id-1 div.sk-parallel-item::after {content: \"\";width: 100%;border-bottom: 1px solid gray;flex-grow: 1;}#sk-container-id-1 div.sk-label:hover label.sk-toggleable__label {background-color: #d4ebff;}#sk-container-id-1 div.sk-serial::before {content: \"\";position: absolute;border-left: 1px solid gray;box-sizing: border-box;top: 0;bottom: 0;left: 50%;z-index: 0;}#sk-container-id-1 div.sk-serial {display: flex;flex-direction: column;align-items: center;background-color: white;padding-right: 0.2em;padding-left: 0.2em;position: relative;}#sk-container-id-1 div.sk-item {position: relative;z-index: 1;}#sk-container-id-1 div.sk-parallel {display: flex;align-items: stretch;justify-content: center;background-color: white;position: relative;}#sk-container-id-1 div.sk-item::before, #sk-container-id-1 div.sk-parallel-item::before {content: \"\";position: absolute;border-left: 1px solid gray;box-sizing: border-box;top: 0;bottom: 0;left: 50%;z-index: -1;}#sk-container-id-1 div.sk-parallel-item {display: flex;flex-direction: column;z-index: 1;position: relative;background-color: white;}#sk-container-id-1 div.sk-parallel-item:first-child::after {align-self: flex-end;width: 50%;}#sk-container-id-1 div.sk-parallel-item:last-child::after {align-self: flex-start;width: 50%;}#sk-container-id-1 div.sk-parallel-item:only-child::after {width: 0;}#sk-container-id-1 div.sk-dashed-wrapped {border: 1px dashed gray;margin: 0 0.4em 0.5em 0.4em;box-sizing: border-box;padding-bottom: 0.4em;background-color: white;}#sk-container-id-1 div.sk-label label {font-family: monospace;font-weight: bold;display: inline-block;line-height: 1.2em;}#sk-container-id-1 div.sk-label-container {text-align: center;}#sk-container-id-1 div.sk-container {/* jupyter's `normalize.less` sets `[hidden] { display: none; }` but bootstrap.min.css set `[hidden] { display: none !important; }` so we also need the `!important` here to be able to override the default hidden behavior on the sphinx rendered scikit-learn.org. See: https://github.com/scikit-learn/scikit-learn/issues/21755 */display: inline-block !important;position: relative;}#sk-container-id-1 div.sk-text-repr-fallback {display: none;}</style><div id=\"sk-container-id-1\" class=\"sk-top-container\"><div class=\"sk-text-repr-fallback\"><pre>RandomForestClassifier(random_state=1)</pre><b>In a Jupyter environment, please rerun this cell to show the HTML representation or trust the notebook. <br />On GitHub, the HTML representation is unable to render, please try loading this page with nbviewer.org.</b></div><div class=\"sk-container\" hidden><div class=\"sk-item\"><div class=\"sk-estimator sk-toggleable\"><input class=\"sk-toggleable__control sk-hidden--visually\" id=\"sk-estimator-id-1\" type=\"checkbox\" checked><label for=\"sk-estimator-id-1\" class=\"sk-toggleable__label sk-toggleable__label-arrow\">RandomForestClassifier</label><div class=\"sk-toggleable__content\"><pre>RandomForestClassifier(random_state=1)</pre></div></div></div></div></div>"
            ]
          },
          "metadata": {},
          "execution_count": 19
        }
      ]
    },
    {
      "cell_type": "code",
      "source": [
        "y_pred = model.predict(X_test)"
      ],
      "metadata": {
        "id": "hMlGzsRC30qf"
      },
      "execution_count": null,
      "outputs": []
    },
    {
      "cell_type": "code",
      "source": [
        "from sklearn.metrics import accuracy_score, classification_report, confusion_matrix\n",
        "print(\"Classification Report:\\n\", classification_report(y_test, y_pred))\n",
        "print(\"Confusion Matrix:\\n\", confusion_matrix(y_test, y_pred))"
      ],
      "metadata": {
        "colab": {
          "base_uri": "https://localhost:8080/"
        },
        "id": "YOMvaeqN32wC",
        "outputId": "a1c53a81-ae0a-4d48-ce9b-d6abd8391d29"
      },
      "execution_count": null,
      "outputs": [
        {
          "output_type": "stream",
          "name": "stdout",
          "text": [
            "Classification Report:\n",
            "               precision    recall  f1-score   support\n",
            "\n",
            "           0       0.50      0.53      0.51     10020\n",
            "           1       0.50      0.47      0.48      9980\n",
            "\n",
            "    accuracy                           0.50     20000\n",
            "   macro avg       0.50      0.50      0.50     20000\n",
            "weighted avg       0.50      0.50      0.50     20000\n",
            "\n",
            "Confusion Matrix:\n",
            " [[5286 4734]\n",
            " [5326 4654]]\n"
          ]
        }
      ]
    },
    {
      "cell_type": "markdown",
      "source": [
        "Logistic Regression"
      ],
      "metadata": {
        "id": "g35y59NSAGNK"
      }
    },
    {
      "cell_type": "code",
      "source": [
        "from sklearn.linear_model import LogisticRegression"
      ],
      "metadata": {
        "id": "aiXwqRwtAJMs"
      },
      "execution_count": null,
      "outputs": []
    },
    {
      "cell_type": "code",
      "source": [
        "model2 = LogisticRegression(random_state=random_seed)\n",
        "model2.fit(X_train, y_train)\n",
        "y_pred2 = model2.predict(X_test)"
      ],
      "metadata": {
        "id": "X0z6_aJLALm8"
      },
      "execution_count": null,
      "outputs": []
    },
    {
      "cell_type": "code",
      "source": [
        "print(\"Classification Report:\\n\", classification_report(y_test, y_pred2))\n",
        "print(\"Confusion Matrix:\\n\", confusion_matrix(y_test, y_pred2))"
      ],
      "metadata": {
        "colab": {
          "base_uri": "https://localhost:8080/"
        },
        "id": "F8QzzWpYANTS",
        "outputId": "226417a0-ca20-423f-c9d2-91f0b92c0283"
      },
      "execution_count": null,
      "outputs": [
        {
          "output_type": "stream",
          "name": "stdout",
          "text": [
            "Classification Report:\n",
            "               precision    recall  f1-score   support\n",
            "\n",
            "           0       0.50      0.74      0.60     10020\n",
            "           1       0.50      0.27      0.35      9980\n",
            "\n",
            "    accuracy                           0.50     20000\n",
            "   macro avg       0.50      0.50      0.47     20000\n",
            "weighted avg       0.50      0.50      0.47     20000\n",
            "\n",
            "Confusion Matrix:\n",
            " [[7410 2610]\n",
            " [7321 2659]]\n"
          ]
        }
      ]
    },
    {
      "cell_type": "markdown",
      "source": [
        "Neural Network"
      ],
      "metadata": {
        "id": "Rp69n9O-AQJ7"
      }
    },
    {
      "cell_type": "code",
      "source": [
        "import tensorflow as tf\n",
        "from tensorflow.keras.models import Sequential\n",
        "from tensorflow.keras.layers import Dense"
      ],
      "metadata": {
        "id": "IcTVlJXfAS-9"
      },
      "execution_count": null,
      "outputs": []
    },
    {
      "cell_type": "code",
      "source": [
        "model = Sequential()\n",
        "model.add(Dense(units=64, activation='relu', input_dim=X_train.shape[1]))\n",
        "model.add(Dense(units=64, activation='relu'))\n",
        "model.add(Dense(units=64, activation='relu'))\n",
        "model.add(Dense(units=1, activation='sigmoid'))"
      ],
      "metadata": {
        "id": "y0qW4bL9AU87"
      },
      "execution_count": null,
      "outputs": []
    },
    {
      "cell_type": "code",
      "source": [
        "model.compile(optimizer='adam', loss='binary_crossentropy', metrics=['accuracy'])"
      ],
      "metadata": {
        "id": "1XCasXQSAfpo"
      },
      "execution_count": null,
      "outputs": []
    },
    {
      "cell_type": "code",
      "source": [
        "model.fit(X_train, y_train, epochs=10, batch_size=32, validation_split=0.2)"
      ],
      "metadata": {
        "colab": {
          "base_uri": "https://localhost:8080/"
        },
        "id": "tih_dLQzAhl3",
        "outputId": "3c0153ec-17b1-4a90-8686-93fd6d563257"
      },
      "execution_count": null,
      "outputs": [
        {
          "output_type": "stream",
          "name": "stdout",
          "text": [
            "Epoch 1/10\n",
            "2000/2000 [==============================] - 6s 3ms/step - loss: 0.7466 - accuracy: 0.5011 - val_loss: 0.7065 - val_accuracy: 0.5011\n",
            "Epoch 2/10\n",
            "2000/2000 [==============================] - 6s 3ms/step - loss: 0.7003 - accuracy: 0.4988 - val_loss: 0.6936 - val_accuracy: 0.5047\n",
            "Epoch 3/10\n",
            "2000/2000 [==============================] - 7s 4ms/step - loss: 0.6936 - accuracy: 0.4977 - val_loss: 0.6932 - val_accuracy: 0.4937\n",
            "Epoch 4/10\n",
            "2000/2000 [==============================] - 9s 4ms/step - loss: 0.6933 - accuracy: 0.4992 - val_loss: 0.6931 - val_accuracy: 0.5059\n",
            "Epoch 5/10\n",
            "2000/2000 [==============================] - 5s 3ms/step - loss: 0.6933 - accuracy: 0.5034 - val_loss: 0.6931 - val_accuracy: 0.5067\n",
            "Epoch 6/10\n",
            "2000/2000 [==============================] - 8s 4ms/step - loss: 0.6932 - accuracy: 0.4988 - val_loss: 0.6931 - val_accuracy: 0.5072\n",
            "Epoch 7/10\n",
            "2000/2000 [==============================] - 8s 4ms/step - loss: 0.6932 - accuracy: 0.4996 - val_loss: 0.6931 - val_accuracy: 0.5067\n",
            "Epoch 8/10\n",
            "2000/2000 [==============================] - 7s 3ms/step - loss: 0.6932 - accuracy: 0.5011 - val_loss: 0.6933 - val_accuracy: 0.4933\n",
            "Epoch 9/10\n",
            "2000/2000 [==============================] - 8s 4ms/step - loss: 0.6932 - accuracy: 0.4991 - val_loss: 0.6931 - val_accuracy: 0.5067\n",
            "Epoch 10/10\n",
            "2000/2000 [==============================] - 7s 3ms/step - loss: 0.6932 - accuracy: 0.5017 - val_loss: 0.6931 - val_accuracy: 0.5067\n"
          ]
        },
        {
          "output_type": "execute_result",
          "data": {
            "text/plain": [
              "<keras.src.callbacks.History at 0x79d0862b6410>"
            ]
          },
          "metadata": {},
          "execution_count": 28
        }
      ]
    },
    {
      "cell_type": "code",
      "source": [
        "y_pred_probs = model.predict(X_test)\n",
        "y_pred_nn = np.round(y_pred_probs).flatten()"
      ],
      "metadata": {
        "colab": {
          "base_uri": "https://localhost:8080/"
        },
        "id": "7cXj7GdBAjPR",
        "outputId": "0913189a-6fe3-4c2e-c4e3-11b7a1544299"
      },
      "execution_count": null,
      "outputs": [
        {
          "output_type": "stream",
          "name": "stdout",
          "text": [
            "625/625 [==============================] - 3s 4ms/step\n"
          ]
        }
      ]
    },
    {
      "cell_type": "code",
      "source": [
        "print(\"Neural Network - Classification Report:\\n\", classification_report(y_test, y_pred_nn))\n",
        "print(\"Neural Network - Confusion Matrix:\\n\", confusion_matrix(y_test, y_pred_nn))"
      ],
      "metadata": {
        "colab": {
          "base_uri": "https://localhost:8080/"
        },
        "id": "9mzOpDXDAlCg",
        "outputId": "6f506922-b65e-46a3-afc9-a921807b0b0f"
      },
      "execution_count": null,
      "outputs": [
        {
          "output_type": "stream",
          "name": "stdout",
          "text": [
            "Neural Network - Classification Report:\n",
            "               precision    recall  f1-score   support\n",
            "\n",
            "           0       0.50      1.00      0.67     10020\n",
            "           1       0.00      0.00      0.00      9980\n",
            "\n",
            "    accuracy                           0.50     20000\n",
            "   macro avg       0.25      0.50      0.33     20000\n",
            "weighted avg       0.25      0.50      0.33     20000\n",
            "\n",
            "Neural Network - Confusion Matrix:\n",
            " [[10020     0]\n",
            " [ 9980     0]]\n"
          ]
        },
        {
          "output_type": "stream",
          "name": "stderr",
          "text": [
            "/usr/local/lib/python3.10/dist-packages/sklearn/metrics/_classification.py:1344: UndefinedMetricWarning: Precision and F-score are ill-defined and being set to 0.0 in labels with no predicted samples. Use `zero_division` parameter to control this behavior.\n",
            "  _warn_prf(average, modifier, msg_start, len(result))\n",
            "/usr/local/lib/python3.10/dist-packages/sklearn/metrics/_classification.py:1344: UndefinedMetricWarning: Precision and F-score are ill-defined and being set to 0.0 in labels with no predicted samples. Use `zero_division` parameter to control this behavior.\n",
            "  _warn_prf(average, modifier, msg_start, len(result))\n",
            "/usr/local/lib/python3.10/dist-packages/sklearn/metrics/_classification.py:1344: UndefinedMetricWarning: Precision and F-score are ill-defined and being set to 0.0 in labels with no predicted samples. Use `zero_division` parameter to control this behavior.\n",
            "  _warn_prf(average, modifier, msg_start, len(result))\n"
          ]
        }
      ]
    },
    {
      "cell_type": "markdown",
      "source": [
        "Naive Bayes"
      ],
      "metadata": {
        "id": "2RCS7IHuAnnt"
      }
    },
    {
      "cell_type": "code",
      "source": [
        "from sklearn.naive_bayes import GaussianNB\n",
        "model_nb = GaussianNB()"
      ],
      "metadata": {
        "id": "tQU-q3v5Atll"
      },
      "execution_count": null,
      "outputs": []
    },
    {
      "cell_type": "code",
      "source": [
        "model_nb.fit(X_train, y_train)"
      ],
      "metadata": {
        "colab": {
          "base_uri": "https://localhost:8080/",
          "height": 75
        },
        "id": "R-FEnUfuAwG1",
        "outputId": "b8a87a35-2f45-4f40-fc97-f59953b8c929"
      },
      "execution_count": null,
      "outputs": [
        {
          "output_type": "execute_result",
          "data": {
            "text/plain": [
              "GaussianNB()"
            ],
            "text/html": [
              "<style>#sk-container-id-2 {color: black;background-color: white;}#sk-container-id-2 pre{padding: 0;}#sk-container-id-2 div.sk-toggleable {background-color: white;}#sk-container-id-2 label.sk-toggleable__label {cursor: pointer;display: block;width: 100%;margin-bottom: 0;padding: 0.3em;box-sizing: border-box;text-align: center;}#sk-container-id-2 label.sk-toggleable__label-arrow:before {content: \"▸\";float: left;margin-right: 0.25em;color: #696969;}#sk-container-id-2 label.sk-toggleable__label-arrow:hover:before {color: black;}#sk-container-id-2 div.sk-estimator:hover label.sk-toggleable__label-arrow:before {color: black;}#sk-container-id-2 div.sk-toggleable__content {max-height: 0;max-width: 0;overflow: hidden;text-align: left;background-color: #f0f8ff;}#sk-container-id-2 div.sk-toggleable__content pre {margin: 0.2em;color: black;border-radius: 0.25em;background-color: #f0f8ff;}#sk-container-id-2 input.sk-toggleable__control:checked~div.sk-toggleable__content {max-height: 200px;max-width: 100%;overflow: auto;}#sk-container-id-2 input.sk-toggleable__control:checked~label.sk-toggleable__label-arrow:before {content: \"▾\";}#sk-container-id-2 div.sk-estimator input.sk-toggleable__control:checked~label.sk-toggleable__label {background-color: #d4ebff;}#sk-container-id-2 div.sk-label input.sk-toggleable__control:checked~label.sk-toggleable__label {background-color: #d4ebff;}#sk-container-id-2 input.sk-hidden--visually {border: 0;clip: rect(1px 1px 1px 1px);clip: rect(1px, 1px, 1px, 1px);height: 1px;margin: -1px;overflow: hidden;padding: 0;position: absolute;width: 1px;}#sk-container-id-2 div.sk-estimator {font-family: monospace;background-color: #f0f8ff;border: 1px dotted black;border-radius: 0.25em;box-sizing: border-box;margin-bottom: 0.5em;}#sk-container-id-2 div.sk-estimator:hover {background-color: #d4ebff;}#sk-container-id-2 div.sk-parallel-item::after {content: \"\";width: 100%;border-bottom: 1px solid gray;flex-grow: 1;}#sk-container-id-2 div.sk-label:hover label.sk-toggleable__label {background-color: #d4ebff;}#sk-container-id-2 div.sk-serial::before {content: \"\";position: absolute;border-left: 1px solid gray;box-sizing: border-box;top: 0;bottom: 0;left: 50%;z-index: 0;}#sk-container-id-2 div.sk-serial {display: flex;flex-direction: column;align-items: center;background-color: white;padding-right: 0.2em;padding-left: 0.2em;position: relative;}#sk-container-id-2 div.sk-item {position: relative;z-index: 1;}#sk-container-id-2 div.sk-parallel {display: flex;align-items: stretch;justify-content: center;background-color: white;position: relative;}#sk-container-id-2 div.sk-item::before, #sk-container-id-2 div.sk-parallel-item::before {content: \"\";position: absolute;border-left: 1px solid gray;box-sizing: border-box;top: 0;bottom: 0;left: 50%;z-index: -1;}#sk-container-id-2 div.sk-parallel-item {display: flex;flex-direction: column;z-index: 1;position: relative;background-color: white;}#sk-container-id-2 div.sk-parallel-item:first-child::after {align-self: flex-end;width: 50%;}#sk-container-id-2 div.sk-parallel-item:last-child::after {align-self: flex-start;width: 50%;}#sk-container-id-2 div.sk-parallel-item:only-child::after {width: 0;}#sk-container-id-2 div.sk-dashed-wrapped {border: 1px dashed gray;margin: 0 0.4em 0.5em 0.4em;box-sizing: border-box;padding-bottom: 0.4em;background-color: white;}#sk-container-id-2 div.sk-label label {font-family: monospace;font-weight: bold;display: inline-block;line-height: 1.2em;}#sk-container-id-2 div.sk-label-container {text-align: center;}#sk-container-id-2 div.sk-container {/* jupyter's `normalize.less` sets `[hidden] { display: none; }` but bootstrap.min.css set `[hidden] { display: none !important; }` so we also need the `!important` here to be able to override the default hidden behavior on the sphinx rendered scikit-learn.org. See: https://github.com/scikit-learn/scikit-learn/issues/21755 */display: inline-block !important;position: relative;}#sk-container-id-2 div.sk-text-repr-fallback {display: none;}</style><div id=\"sk-container-id-2\" class=\"sk-top-container\"><div class=\"sk-text-repr-fallback\"><pre>GaussianNB()</pre><b>In a Jupyter environment, please rerun this cell to show the HTML representation or trust the notebook. <br />On GitHub, the HTML representation is unable to render, please try loading this page with nbviewer.org.</b></div><div class=\"sk-container\" hidden><div class=\"sk-item\"><div class=\"sk-estimator sk-toggleable\"><input class=\"sk-toggleable__control sk-hidden--visually\" id=\"sk-estimator-id-2\" type=\"checkbox\" checked><label for=\"sk-estimator-id-2\" class=\"sk-toggleable__label sk-toggleable__label-arrow\">GaussianNB</label><div class=\"sk-toggleable__content\"><pre>GaussianNB()</pre></div></div></div></div></div>"
            ]
          },
          "metadata": {},
          "execution_count": 32
        }
      ]
    },
    {
      "cell_type": "code",
      "source": [
        "y_pred_nb = model_nb.predict(X_test)"
      ],
      "metadata": {
        "id": "b0-zsME7AyE5"
      },
      "execution_count": null,
      "outputs": []
    },
    {
      "cell_type": "code",
      "source": [
        "print(\"Naive Bayes - Classification Report:\\n\", classification_report(y_test, y_pred_nb))\n",
        "print(\"Naive Bayes - Confusion Matrix:\\n\", confusion_matrix(y_test, y_pred_nb))"
      ],
      "metadata": {
        "colab": {
          "base_uri": "https://localhost:8080/"
        },
        "id": "hOPQ7jGXAzri",
        "outputId": "9e659e43-97ba-48cf-a568-6a77cbd6dc8a"
      },
      "execution_count": null,
      "outputs": [
        {
          "output_type": "stream",
          "name": "stdout",
          "text": [
            "Naive Bayes - Classification Report:\n",
            "               precision    recall  f1-score   support\n",
            "\n",
            "           0       0.50      0.74      0.60     10020\n",
            "           1       0.50      0.26      0.35      9980\n",
            "\n",
            "    accuracy                           0.50     20000\n",
            "   macro avg       0.50      0.50      0.47     20000\n",
            "weighted avg       0.50      0.50      0.47     20000\n",
            "\n",
            "Naive Bayes - Confusion Matrix:\n",
            " [[7384 2636]\n",
            " [7340 2640]]\n"
          ]
        }
      ]
    },
    {
      "cell_type": "markdown",
      "source": [
        "Decision Tree"
      ],
      "metadata": {
        "id": "ZH_7TwVrA1a8"
      }
    },
    {
      "cell_type": "code",
      "source": [
        "from sklearn.tree import DecisionTreeClassifier"
      ],
      "metadata": {
        "id": "daGvALpfA3e5"
      },
      "execution_count": null,
      "outputs": []
    },
    {
      "cell_type": "code",
      "source": [
        "model_dt = DecisionTreeClassifier(random_state=1)"
      ],
      "metadata": {
        "id": "rujW-xB9A5Ts"
      },
      "execution_count": null,
      "outputs": []
    },
    {
      "cell_type": "code",
      "source": [
        "model_dt.fit(X_train, y_train)"
      ],
      "metadata": {
        "colab": {
          "base_uri": "https://localhost:8080/",
          "height": 75
        },
        "id": "2fFpf2EcA6tA",
        "outputId": "5059691d-423f-42ae-808e-cedef631a441"
      },
      "execution_count": null,
      "outputs": [
        {
          "output_type": "execute_result",
          "data": {
            "text/plain": [
              "DecisionTreeClassifier(random_state=1)"
            ],
            "text/html": [
              "<style>#sk-container-id-3 {color: black;background-color: white;}#sk-container-id-3 pre{padding: 0;}#sk-container-id-3 div.sk-toggleable {background-color: white;}#sk-container-id-3 label.sk-toggleable__label {cursor: pointer;display: block;width: 100%;margin-bottom: 0;padding: 0.3em;box-sizing: border-box;text-align: center;}#sk-container-id-3 label.sk-toggleable__label-arrow:before {content: \"▸\";float: left;margin-right: 0.25em;color: #696969;}#sk-container-id-3 label.sk-toggleable__label-arrow:hover:before {color: black;}#sk-container-id-3 div.sk-estimator:hover label.sk-toggleable__label-arrow:before {color: black;}#sk-container-id-3 div.sk-toggleable__content {max-height: 0;max-width: 0;overflow: hidden;text-align: left;background-color: #f0f8ff;}#sk-container-id-3 div.sk-toggleable__content pre {margin: 0.2em;color: black;border-radius: 0.25em;background-color: #f0f8ff;}#sk-container-id-3 input.sk-toggleable__control:checked~div.sk-toggleable__content {max-height: 200px;max-width: 100%;overflow: auto;}#sk-container-id-3 input.sk-toggleable__control:checked~label.sk-toggleable__label-arrow:before {content: \"▾\";}#sk-container-id-3 div.sk-estimator input.sk-toggleable__control:checked~label.sk-toggleable__label {background-color: #d4ebff;}#sk-container-id-3 div.sk-label input.sk-toggleable__control:checked~label.sk-toggleable__label {background-color: #d4ebff;}#sk-container-id-3 input.sk-hidden--visually {border: 0;clip: rect(1px 1px 1px 1px);clip: rect(1px, 1px, 1px, 1px);height: 1px;margin: -1px;overflow: hidden;padding: 0;position: absolute;width: 1px;}#sk-container-id-3 div.sk-estimator {font-family: monospace;background-color: #f0f8ff;border: 1px dotted black;border-radius: 0.25em;box-sizing: border-box;margin-bottom: 0.5em;}#sk-container-id-3 div.sk-estimator:hover {background-color: #d4ebff;}#sk-container-id-3 div.sk-parallel-item::after {content: \"\";width: 100%;border-bottom: 1px solid gray;flex-grow: 1;}#sk-container-id-3 div.sk-label:hover label.sk-toggleable__label {background-color: #d4ebff;}#sk-container-id-3 div.sk-serial::before {content: \"\";position: absolute;border-left: 1px solid gray;box-sizing: border-box;top: 0;bottom: 0;left: 50%;z-index: 0;}#sk-container-id-3 div.sk-serial {display: flex;flex-direction: column;align-items: center;background-color: white;padding-right: 0.2em;padding-left: 0.2em;position: relative;}#sk-container-id-3 div.sk-item {position: relative;z-index: 1;}#sk-container-id-3 div.sk-parallel {display: flex;align-items: stretch;justify-content: center;background-color: white;position: relative;}#sk-container-id-3 div.sk-item::before, #sk-container-id-3 div.sk-parallel-item::before {content: \"\";position: absolute;border-left: 1px solid gray;box-sizing: border-box;top: 0;bottom: 0;left: 50%;z-index: -1;}#sk-container-id-3 div.sk-parallel-item {display: flex;flex-direction: column;z-index: 1;position: relative;background-color: white;}#sk-container-id-3 div.sk-parallel-item:first-child::after {align-self: flex-end;width: 50%;}#sk-container-id-3 div.sk-parallel-item:last-child::after {align-self: flex-start;width: 50%;}#sk-container-id-3 div.sk-parallel-item:only-child::after {width: 0;}#sk-container-id-3 div.sk-dashed-wrapped {border: 1px dashed gray;margin: 0 0.4em 0.5em 0.4em;box-sizing: border-box;padding-bottom: 0.4em;background-color: white;}#sk-container-id-3 div.sk-label label {font-family: monospace;font-weight: bold;display: inline-block;line-height: 1.2em;}#sk-container-id-3 div.sk-label-container {text-align: center;}#sk-container-id-3 div.sk-container {/* jupyter's `normalize.less` sets `[hidden] { display: none; }` but bootstrap.min.css set `[hidden] { display: none !important; }` so we also need the `!important` here to be able to override the default hidden behavior on the sphinx rendered scikit-learn.org. See: https://github.com/scikit-learn/scikit-learn/issues/21755 */display: inline-block !important;position: relative;}#sk-container-id-3 div.sk-text-repr-fallback {display: none;}</style><div id=\"sk-container-id-3\" class=\"sk-top-container\"><div class=\"sk-text-repr-fallback\"><pre>DecisionTreeClassifier(random_state=1)</pre><b>In a Jupyter environment, please rerun this cell to show the HTML representation or trust the notebook. <br />On GitHub, the HTML representation is unable to render, please try loading this page with nbviewer.org.</b></div><div class=\"sk-container\" hidden><div class=\"sk-item\"><div class=\"sk-estimator sk-toggleable\"><input class=\"sk-toggleable__control sk-hidden--visually\" id=\"sk-estimator-id-3\" type=\"checkbox\" checked><label for=\"sk-estimator-id-3\" class=\"sk-toggleable__label sk-toggleable__label-arrow\">DecisionTreeClassifier</label><div class=\"sk-toggleable__content\"><pre>DecisionTreeClassifier(random_state=1)</pre></div></div></div></div></div>"
            ]
          },
          "metadata": {},
          "execution_count": 37
        }
      ]
    },
    {
      "cell_type": "code",
      "source": [
        "y_pred_dt = model_dt.predict(X_test)"
      ],
      "metadata": {
        "id": "JIIkXAqoA8KU"
      },
      "execution_count": null,
      "outputs": []
    },
    {
      "cell_type": "code",
      "source": [
        "print(\"Decision Tree - Classification Report:\\n\", classification_report(y_test, y_pred_dt))\n",
        "print(\"Decision Tree - Confusion Matrix:\\n\", confusion_matrix(y_test, y_pred_dt))"
      ],
      "metadata": {
        "colab": {
          "base_uri": "https://localhost:8080/"
        },
        "id": "EZFW4Ki8A9wl",
        "outputId": "13c7e432-fd23-4933-89e0-86084048893f"
      },
      "execution_count": null,
      "outputs": [
        {
          "output_type": "stream",
          "name": "stdout",
          "text": [
            "Decision Tree - Classification Report:\n",
            "               precision    recall  f1-score   support\n",
            "\n",
            "           0       0.51      0.51      0.51     10020\n",
            "           1       0.50      0.51      0.51      9980\n",
            "\n",
            "    accuracy                           0.51     20000\n",
            "   macro avg       0.51      0.51      0.51     20000\n",
            "weighted avg       0.51      0.51      0.51     20000\n",
            "\n",
            "Decision Tree - Confusion Matrix:\n",
            " [[5065 4955]\n",
            " [4934 5046]]\n"
          ]
        }
      ]
    },
    {
      "cell_type": "markdown",
      "source": [
        "XGBoost"
      ],
      "metadata": {
        "id": "j1d2LO9kBBQI"
      }
    },
    {
      "cell_type": "code",
      "source": [
        "from xgboost import XGBClassifier"
      ],
      "metadata": {
        "id": "8oSvuw7lBDfx"
      },
      "execution_count": null,
      "outputs": []
    },
    {
      "cell_type": "code",
      "source": [
        "model_xgb = XGBClassifier(random_state=1)"
      ],
      "metadata": {
        "id": "NKbKnuLvBFEX"
      },
      "execution_count": null,
      "outputs": []
    },
    {
      "cell_type": "code",
      "source": [
        "model_xgb.fit(X_train, y_train)"
      ],
      "metadata": {
        "colab": {
          "base_uri": "https://localhost:8080/",
          "height": 248
        },
        "id": "bWbbI43YBGiY",
        "outputId": "f2c6d4c7-525e-4c8a-9729-1b2c0580dc1e"
      },
      "execution_count": null,
      "outputs": [
        {
          "output_type": "execute_result",
          "data": {
            "text/plain": [
              "XGBClassifier(base_score=None, booster=None, callbacks=None,\n",
              "              colsample_bylevel=None, colsample_bynode=None,\n",
              "              colsample_bytree=None, device=None, early_stopping_rounds=None,\n",
              "              enable_categorical=False, eval_metric=None, feature_types=None,\n",
              "              gamma=None, grow_policy=None, importance_type=None,\n",
              "              interaction_constraints=None, learning_rate=None, max_bin=None,\n",
              "              max_cat_threshold=None, max_cat_to_onehot=None,\n",
              "              max_delta_step=None, max_depth=None, max_leaves=None,\n",
              "              min_child_weight=None, missing=nan, monotone_constraints=None,\n",
              "              multi_strategy=None, n_estimators=None, n_jobs=None,\n",
              "              num_parallel_tree=None, random_state=1, ...)"
            ],
            "text/html": [
              "<style>#sk-container-id-4 {color: black;background-color: white;}#sk-container-id-4 pre{padding: 0;}#sk-container-id-4 div.sk-toggleable {background-color: white;}#sk-container-id-4 label.sk-toggleable__label {cursor: pointer;display: block;width: 100%;margin-bottom: 0;padding: 0.3em;box-sizing: border-box;text-align: center;}#sk-container-id-4 label.sk-toggleable__label-arrow:before {content: \"▸\";float: left;margin-right: 0.25em;color: #696969;}#sk-container-id-4 label.sk-toggleable__label-arrow:hover:before {color: black;}#sk-container-id-4 div.sk-estimator:hover label.sk-toggleable__label-arrow:before {color: black;}#sk-container-id-4 div.sk-toggleable__content {max-height: 0;max-width: 0;overflow: hidden;text-align: left;background-color: #f0f8ff;}#sk-container-id-4 div.sk-toggleable__content pre {margin: 0.2em;color: black;border-radius: 0.25em;background-color: #f0f8ff;}#sk-container-id-4 input.sk-toggleable__control:checked~div.sk-toggleable__content {max-height: 200px;max-width: 100%;overflow: auto;}#sk-container-id-4 input.sk-toggleable__control:checked~label.sk-toggleable__label-arrow:before {content: \"▾\";}#sk-container-id-4 div.sk-estimator input.sk-toggleable__control:checked~label.sk-toggleable__label {background-color: #d4ebff;}#sk-container-id-4 div.sk-label input.sk-toggleable__control:checked~label.sk-toggleable__label {background-color: #d4ebff;}#sk-container-id-4 input.sk-hidden--visually {border: 0;clip: rect(1px 1px 1px 1px);clip: rect(1px, 1px, 1px, 1px);height: 1px;margin: -1px;overflow: hidden;padding: 0;position: absolute;width: 1px;}#sk-container-id-4 div.sk-estimator {font-family: monospace;background-color: #f0f8ff;border: 1px dotted black;border-radius: 0.25em;box-sizing: border-box;margin-bottom: 0.5em;}#sk-container-id-4 div.sk-estimator:hover {background-color: #d4ebff;}#sk-container-id-4 div.sk-parallel-item::after {content: \"\";width: 100%;border-bottom: 1px solid gray;flex-grow: 1;}#sk-container-id-4 div.sk-label:hover label.sk-toggleable__label {background-color: #d4ebff;}#sk-container-id-4 div.sk-serial::before {content: \"\";position: absolute;border-left: 1px solid gray;box-sizing: border-box;top: 0;bottom: 0;left: 50%;z-index: 0;}#sk-container-id-4 div.sk-serial {display: flex;flex-direction: column;align-items: center;background-color: white;padding-right: 0.2em;padding-left: 0.2em;position: relative;}#sk-container-id-4 div.sk-item {position: relative;z-index: 1;}#sk-container-id-4 div.sk-parallel {display: flex;align-items: stretch;justify-content: center;background-color: white;position: relative;}#sk-container-id-4 div.sk-item::before, #sk-container-id-4 div.sk-parallel-item::before {content: \"\";position: absolute;border-left: 1px solid gray;box-sizing: border-box;top: 0;bottom: 0;left: 50%;z-index: -1;}#sk-container-id-4 div.sk-parallel-item {display: flex;flex-direction: column;z-index: 1;position: relative;background-color: white;}#sk-container-id-4 div.sk-parallel-item:first-child::after {align-self: flex-end;width: 50%;}#sk-container-id-4 div.sk-parallel-item:last-child::after {align-self: flex-start;width: 50%;}#sk-container-id-4 div.sk-parallel-item:only-child::after {width: 0;}#sk-container-id-4 div.sk-dashed-wrapped {border: 1px dashed gray;margin: 0 0.4em 0.5em 0.4em;box-sizing: border-box;padding-bottom: 0.4em;background-color: white;}#sk-container-id-4 div.sk-label label {font-family: monospace;font-weight: bold;display: inline-block;line-height: 1.2em;}#sk-container-id-4 div.sk-label-container {text-align: center;}#sk-container-id-4 div.sk-container {/* jupyter's `normalize.less` sets `[hidden] { display: none; }` but bootstrap.min.css set `[hidden] { display: none !important; }` so we also need the `!important` here to be able to override the default hidden behavior on the sphinx rendered scikit-learn.org. See: https://github.com/scikit-learn/scikit-learn/issues/21755 */display: inline-block !important;position: relative;}#sk-container-id-4 div.sk-text-repr-fallback {display: none;}</style><div id=\"sk-container-id-4\" class=\"sk-top-container\"><div class=\"sk-text-repr-fallback\"><pre>XGBClassifier(base_score=None, booster=None, callbacks=None,\n",
              "              colsample_bylevel=None, colsample_bynode=None,\n",
              "              colsample_bytree=None, device=None, early_stopping_rounds=None,\n",
              "              enable_categorical=False, eval_metric=None, feature_types=None,\n",
              "              gamma=None, grow_policy=None, importance_type=None,\n",
              "              interaction_constraints=None, learning_rate=None, max_bin=None,\n",
              "              max_cat_threshold=None, max_cat_to_onehot=None,\n",
              "              max_delta_step=None, max_depth=None, max_leaves=None,\n",
              "              min_child_weight=None, missing=nan, monotone_constraints=None,\n",
              "              multi_strategy=None, n_estimators=None, n_jobs=None,\n",
              "              num_parallel_tree=None, random_state=1, ...)</pre><b>In a Jupyter environment, please rerun this cell to show the HTML representation or trust the notebook. <br />On GitHub, the HTML representation is unable to render, please try loading this page with nbviewer.org.</b></div><div class=\"sk-container\" hidden><div class=\"sk-item\"><div class=\"sk-estimator sk-toggleable\"><input class=\"sk-toggleable__control sk-hidden--visually\" id=\"sk-estimator-id-4\" type=\"checkbox\" checked><label for=\"sk-estimator-id-4\" class=\"sk-toggleable__label sk-toggleable__label-arrow\">XGBClassifier</label><div class=\"sk-toggleable__content\"><pre>XGBClassifier(base_score=None, booster=None, callbacks=None,\n",
              "              colsample_bylevel=None, colsample_bynode=None,\n",
              "              colsample_bytree=None, device=None, early_stopping_rounds=None,\n",
              "              enable_categorical=False, eval_metric=None, feature_types=None,\n",
              "              gamma=None, grow_policy=None, importance_type=None,\n",
              "              interaction_constraints=None, learning_rate=None, max_bin=None,\n",
              "              max_cat_threshold=None, max_cat_to_onehot=None,\n",
              "              max_delta_step=None, max_depth=None, max_leaves=None,\n",
              "              min_child_weight=None, missing=nan, monotone_constraints=None,\n",
              "              multi_strategy=None, n_estimators=None, n_jobs=None,\n",
              "              num_parallel_tree=None, random_state=1, ...)</pre></div></div></div></div></div>"
            ]
          },
          "metadata": {},
          "execution_count": 42
        }
      ]
    },
    {
      "cell_type": "code",
      "source": [
        "y_pred_xgb = model_xgb.predict(X_test)"
      ],
      "metadata": {
        "id": "Jt37qfTjBIKR"
      },
      "execution_count": null,
      "outputs": []
    },
    {
      "cell_type": "code",
      "source": [
        "print(\"XGBoost - Classification Report:\\n\", classification_report(y_test, y_pred_xgb))\n",
        "print(\"XGBoost - Confusion Matrix:\\n\", confusion_matrix(y_test, y_pred_xgb))"
      ],
      "metadata": {
        "colab": {
          "base_uri": "https://localhost:8080/"
        },
        "id": "UQWBnSH3BK6L",
        "outputId": "b1aa0d7d-7b74-4e6d-b224-f5a7761556a6"
      },
      "execution_count": null,
      "outputs": [
        {
          "output_type": "stream",
          "name": "stdout",
          "text": [
            "XGBoost - Classification Report:\n",
            "               precision    recall  f1-score   support\n",
            "\n",
            "           0       0.50      0.51      0.50     10020\n",
            "           1       0.49      0.48      0.48      9980\n",
            "\n",
            "    accuracy                           0.49     20000\n",
            "   macro avg       0.49      0.49      0.49     20000\n",
            "weighted avg       0.49      0.49      0.49     20000\n",
            "\n",
            "XGBoost - Confusion Matrix:\n",
            " [[5144 4876]\n",
            " [5234 4746]]\n"
          ]
        }
      ]
    },
    {
      "cell_type": "markdown",
      "source": [
        "CATBoost"
      ],
      "metadata": {
        "id": "mwA5PmIcBLvj"
      }
    },
    {
      "cell_type": "code",
      "source": [
        "!pip install catboost"
      ],
      "metadata": {
        "colab": {
          "base_uri": "https://localhost:8080/"
        },
        "id": "MpbPt3eQBNdF",
        "outputId": "8061bedd-0276-495c-a325-878e97252834"
      },
      "execution_count": null,
      "outputs": [
        {
          "output_type": "stream",
          "name": "stdout",
          "text": [
            "Collecting catboost\n",
            "  Downloading catboost-1.2.2-cp310-cp310-manylinux2014_x86_64.whl (98.7 MB)\n",
            "\u001b[2K     \u001b[90m━━━━━━━━━━━━━━━━━━━━━━━━━━━━━━━━━━━━━━━━\u001b[0m \u001b[32m98.7/98.7 MB\u001b[0m \u001b[31m2.4 MB/s\u001b[0m eta \u001b[36m0:00:00\u001b[0m\n",
            "\u001b[?25hRequirement already satisfied: graphviz in /usr/local/lib/python3.10/dist-packages (from catboost) (0.20.1)\n",
            "Requirement already satisfied: matplotlib in /usr/local/lib/python3.10/dist-packages (from catboost) (3.7.1)\n",
            "Requirement already satisfied: numpy>=1.16.0 in /usr/local/lib/python3.10/dist-packages (from catboost) (1.23.5)\n",
            "Requirement already satisfied: pandas>=0.24 in /usr/local/lib/python3.10/dist-packages (from catboost) (1.5.3)\n",
            "Requirement already satisfied: scipy in /usr/local/lib/python3.10/dist-packages (from catboost) (1.11.3)\n",
            "Requirement already satisfied: plotly in /usr/local/lib/python3.10/dist-packages (from catboost) (5.15.0)\n",
            "Requirement already satisfied: six in /usr/local/lib/python3.10/dist-packages (from catboost) (1.16.0)\n",
            "Requirement already satisfied: python-dateutil>=2.8.1 in /usr/local/lib/python3.10/dist-packages (from pandas>=0.24->catboost) (2.8.2)\n",
            "Requirement already satisfied: pytz>=2020.1 in /usr/local/lib/python3.10/dist-packages (from pandas>=0.24->catboost) (2023.3.post1)\n",
            "Requirement already satisfied: contourpy>=1.0.1 in /usr/local/lib/python3.10/dist-packages (from matplotlib->catboost) (1.1.1)\n",
            "Requirement already satisfied: cycler>=0.10 in /usr/local/lib/python3.10/dist-packages (from matplotlib->catboost) (0.12.1)\n",
            "Requirement already satisfied: fonttools>=4.22.0 in /usr/local/lib/python3.10/dist-packages (from matplotlib->catboost) (4.43.1)\n",
            "Requirement already satisfied: kiwisolver>=1.0.1 in /usr/local/lib/python3.10/dist-packages (from matplotlib->catboost) (1.4.5)\n",
            "Requirement already satisfied: packaging>=20.0 in /usr/local/lib/python3.10/dist-packages (from matplotlib->catboost) (23.2)\n",
            "Requirement already satisfied: pillow>=6.2.0 in /usr/local/lib/python3.10/dist-packages (from matplotlib->catboost) (9.4.0)\n",
            "Requirement already satisfied: pyparsing>=2.3.1 in /usr/local/lib/python3.10/dist-packages (from matplotlib->catboost) (3.1.1)\n",
            "Requirement already satisfied: tenacity>=6.2.0 in /usr/local/lib/python3.10/dist-packages (from plotly->catboost) (8.2.3)\n",
            "Installing collected packages: catboost\n",
            "Successfully installed catboost-1.2.2\n"
          ]
        }
      ]
    },
    {
      "cell_type": "code",
      "source": [
        "from catboost import CatBoostClassifier"
      ],
      "metadata": {
        "id": "nhxd6lnpBPMR"
      },
      "execution_count": null,
      "outputs": []
    },
    {
      "cell_type": "code",
      "source": [
        "model_catboost = CatBoostClassifier(iterations=500, depth=8, learning_rate=0.1, loss_function='Logloss', random_seed=1)"
      ],
      "metadata": {
        "id": "mZiPz_PqBSSx"
      },
      "execution_count": null,
      "outputs": []
    },
    {
      "cell_type": "code",
      "source": [
        "model_catboost.fit(X_train, y_train)"
      ],
      "metadata": {
        "colab": {
          "base_uri": "https://localhost:8080/"
        },
        "id": "y5JACOr4BSca",
        "outputId": "fc45ea8a-e062-4937-c7a4-8900a695c836"
      },
      "execution_count": null,
      "outputs": [
        {
          "output_type": "stream",
          "name": "stdout",
          "text": [
            "0:\tlearn: 0.6929795\ttotal: 121ms\tremaining: 1m\n",
            "1:\tlearn: 0.6927934\ttotal: 180ms\tremaining: 44.8s\n",
            "2:\tlearn: 0.6926360\ttotal: 236ms\tremaining: 39.1s\n",
            "3:\tlearn: 0.6924520\ttotal: 293ms\tremaining: 36.4s\n",
            "4:\tlearn: 0.6922836\ttotal: 360ms\tremaining: 35.6s\n",
            "5:\tlearn: 0.6921362\ttotal: 418ms\tremaining: 34.4s\n",
            "6:\tlearn: 0.6920395\ttotal: 490ms\tremaining: 34.5s\n",
            "7:\tlearn: 0.6918940\ttotal: 570ms\tremaining: 35s\n",
            "8:\tlearn: 0.6917273\ttotal: 683ms\tremaining: 37.3s\n",
            "9:\tlearn: 0.6915027\ttotal: 745ms\tremaining: 36.5s\n",
            "10:\tlearn: 0.6913082\ttotal: 847ms\tremaining: 37.7s\n",
            "11:\tlearn: 0.6911124\ttotal: 921ms\tremaining: 37.4s\n",
            "12:\tlearn: 0.6909675\ttotal: 981ms\tremaining: 36.7s\n",
            "13:\tlearn: 0.6908047\ttotal: 1.01s\tremaining: 35.2s\n",
            "14:\tlearn: 0.6906609\ttotal: 1.04s\tremaining: 33.7s\n",
            "15:\tlearn: 0.6906610\ttotal: 1.06s\tremaining: 32s\n",
            "16:\tlearn: 0.6905176\ttotal: 1.09s\tremaining: 31s\n",
            "17:\tlearn: 0.6903722\ttotal: 1.13s\tremaining: 30.1s\n",
            "18:\tlearn: 0.6901801\ttotal: 1.15s\tremaining: 29.2s\n",
            "19:\tlearn: 0.6900377\ttotal: 1.19s\tremaining: 28.6s\n",
            "20:\tlearn: 0.6899078\ttotal: 1.24s\tremaining: 28.4s\n",
            "21:\tlearn: 0.6897745\ttotal: 1.32s\tremaining: 28.7s\n",
            "22:\tlearn: 0.6896123\ttotal: 1.38s\tremaining: 28.6s\n",
            "23:\tlearn: 0.6894737\ttotal: 1.45s\tremaining: 28.8s\n",
            "24:\tlearn: 0.6893263\ttotal: 1.51s\tremaining: 28.7s\n",
            "25:\tlearn: 0.6891986\ttotal: 1.54s\tremaining: 28.2s\n",
            "26:\tlearn: 0.6890470\ttotal: 1.6s\tremaining: 28s\n",
            "27:\tlearn: 0.6889515\ttotal: 1.67s\tremaining: 28.1s\n",
            "28:\tlearn: 0.6887894\ttotal: 1.72s\tremaining: 27.9s\n",
            "29:\tlearn: 0.6886614\ttotal: 1.79s\tremaining: 28.1s\n",
            "30:\tlearn: 0.6885188\ttotal: 1.85s\tremaining: 28s\n",
            "31:\tlearn: 0.6883618\ttotal: 1.91s\tremaining: 27.9s\n",
            "32:\tlearn: 0.6882249\ttotal: 1.97s\tremaining: 27.9s\n",
            "33:\tlearn: 0.6880890\ttotal: 2.04s\tremaining: 27.9s\n",
            "34:\tlearn: 0.6879417\ttotal: 2.09s\tremaining: 27.8s\n",
            "35:\tlearn: 0.6877977\ttotal: 2.17s\tremaining: 27.9s\n",
            "36:\tlearn: 0.6876827\ttotal: 2.22s\tremaining: 27.8s\n",
            "37:\tlearn: 0.6875437\ttotal: 2.29s\tremaining: 27.8s\n",
            "38:\tlearn: 0.6874510\ttotal: 2.38s\tremaining: 28.1s\n",
            "39:\tlearn: 0.6873689\ttotal: 2.43s\tremaining: 27.9s\n",
            "40:\tlearn: 0.6872508\ttotal: 2.46s\tremaining: 27.5s\n",
            "41:\tlearn: 0.6870987\ttotal: 2.49s\tremaining: 27.2s\n",
            "42:\tlearn: 0.6869621\ttotal: 2.52s\tremaining: 26.8s\n",
            "43:\tlearn: 0.6868419\ttotal: 2.55s\tremaining: 26.4s\n",
            "44:\tlearn: 0.6867037\ttotal: 2.59s\tremaining: 26.2s\n",
            "45:\tlearn: 0.6865532\ttotal: 2.65s\tremaining: 26.1s\n",
            "46:\tlearn: 0.6864502\ttotal: 2.67s\tremaining: 25.8s\n",
            "47:\tlearn: 0.6863659\ttotal: 2.79s\tremaining: 26.2s\n",
            "48:\tlearn: 0.6862427\ttotal: 2.87s\tremaining: 26.4s\n",
            "49:\tlearn: 0.6861190\ttotal: 2.95s\tremaining: 26.6s\n",
            "50:\tlearn: 0.6860025\ttotal: 3.06s\tremaining: 26.9s\n",
            "51:\tlearn: 0.6858983\ttotal: 3.13s\tremaining: 27s\n",
            "52:\tlearn: 0.6857402\ttotal: 3.2s\tremaining: 27s\n",
            "53:\tlearn: 0.6856198\ttotal: 3.26s\tremaining: 27s\n",
            "54:\tlearn: 0.6854961\ttotal: 3.34s\tremaining: 27s\n",
            "55:\tlearn: 0.6853810\ttotal: 3.39s\tremaining: 26.9s\n",
            "56:\tlearn: 0.6852889\ttotal: 3.45s\tremaining: 26.8s\n",
            "57:\tlearn: 0.6851767\ttotal: 3.5s\tremaining: 26.7s\n",
            "58:\tlearn: 0.6850366\ttotal: 3.58s\tremaining: 26.8s\n",
            "59:\tlearn: 0.6848985\ttotal: 3.65s\tremaining: 26.7s\n",
            "60:\tlearn: 0.6848014\ttotal: 3.71s\tremaining: 26.7s\n",
            "61:\tlearn: 0.6846539\ttotal: 3.77s\tremaining: 26.6s\n",
            "62:\tlearn: 0.6845368\ttotal: 3.84s\tremaining: 26.6s\n",
            "63:\tlearn: 0.6844341\ttotal: 3.93s\tremaining: 26.8s\n",
            "64:\tlearn: 0.6843457\ttotal: 4s\tremaining: 26.8s\n",
            "65:\tlearn: 0.6842070\ttotal: 4.06s\tremaining: 26.7s\n",
            "66:\tlearn: 0.6841003\ttotal: 4.13s\tremaining: 26.7s\n",
            "67:\tlearn: 0.6839812\ttotal: 4.2s\tremaining: 26.7s\n",
            "68:\tlearn: 0.6839010\ttotal: 4.28s\tremaining: 26.7s\n",
            "69:\tlearn: 0.6837938\ttotal: 4.33s\tremaining: 26.6s\n",
            "70:\tlearn: 0.6836982\ttotal: 4.4s\tremaining: 26.6s\n",
            "71:\tlearn: 0.6835458\ttotal: 4.46s\tremaining: 26.5s\n",
            "72:\tlearn: 0.6835446\ttotal: 4.5s\tremaining: 26.3s\n",
            "73:\tlearn: 0.6834769\ttotal: 4.56s\tremaining: 26.3s\n",
            "74:\tlearn: 0.6834145\ttotal: 4.61s\tremaining: 26.1s\n",
            "75:\tlearn: 0.6832899\ttotal: 4.7s\tremaining: 26.2s\n",
            "76:\tlearn: 0.6832073\ttotal: 4.79s\tremaining: 26.3s\n",
            "77:\tlearn: 0.6830891\ttotal: 4.87s\tremaining: 26.3s\n",
            "78:\tlearn: 0.6830145\ttotal: 4.92s\tremaining: 26.2s\n",
            "79:\tlearn: 0.6828834\ttotal: 4.95s\tremaining: 26s\n",
            "80:\tlearn: 0.6827996\ttotal: 4.99s\tremaining: 25.8s\n",
            "81:\tlearn: 0.6827110\ttotal: 5.05s\tremaining: 25.8s\n",
            "82:\tlearn: 0.6826465\ttotal: 5.11s\tremaining: 25.7s\n",
            "83:\tlearn: 0.6825244\ttotal: 5.15s\tremaining: 25.5s\n",
            "84:\tlearn: 0.6824028\ttotal: 5.2s\tremaining: 25.4s\n",
            "85:\tlearn: 0.6823140\ttotal: 5.25s\tremaining: 25.3s\n",
            "86:\tlearn: 0.6822273\ttotal: 5.29s\tremaining: 25.1s\n",
            "87:\tlearn: 0.6821056\ttotal: 5.32s\tremaining: 24.9s\n",
            "88:\tlearn: 0.6819698\ttotal: 5.35s\tremaining: 24.7s\n",
            "89:\tlearn: 0.6818208\ttotal: 5.4s\tremaining: 24.6s\n",
            "90:\tlearn: 0.6817144\ttotal: 5.43s\tremaining: 24.4s\n",
            "91:\tlearn: 0.6817142\ttotal: 5.45s\tremaining: 24.2s\n",
            "92:\tlearn: 0.6816059\ttotal: 5.5s\tremaining: 24.1s\n",
            "93:\tlearn: 0.6814770\ttotal: 5.54s\tremaining: 23.9s\n",
            "94:\tlearn: 0.6813936\ttotal: 5.63s\tremaining: 24s\n",
            "95:\tlearn: 0.6813936\ttotal: 5.67s\tremaining: 23.9s\n",
            "96:\tlearn: 0.6812567\ttotal: 5.81s\tremaining: 24.1s\n",
            "97:\tlearn: 0.6811600\ttotal: 5.93s\tremaining: 24.3s\n",
            "98:\tlearn: 0.6810403\ttotal: 6.03s\tremaining: 24.4s\n",
            "99:\tlearn: 0.6809467\ttotal: 6.12s\tremaining: 24.5s\n",
            "100:\tlearn: 0.6808608\ttotal: 6.22s\tremaining: 24.6s\n",
            "101:\tlearn: 0.6807708\ttotal: 6.32s\tremaining: 24.7s\n",
            "102:\tlearn: 0.6807709\ttotal: 6.37s\tremaining: 24.6s\n",
            "103:\tlearn: 0.6806428\ttotal: 6.5s\tremaining: 24.7s\n",
            "104:\tlearn: 0.6806266\ttotal: 6.58s\tremaining: 24.8s\n",
            "105:\tlearn: 0.6804935\ttotal: 6.67s\tremaining: 24.8s\n",
            "106:\tlearn: 0.6804186\ttotal: 6.76s\tremaining: 24.8s\n",
            "107:\tlearn: 0.6802744\ttotal: 6.86s\tremaining: 24.9s\n",
            "108:\tlearn: 0.6801238\ttotal: 7s\tremaining: 25.1s\n",
            "109:\tlearn: 0.6800018\ttotal: 7.1s\tremaining: 25.2s\n",
            "110:\tlearn: 0.6798699\ttotal: 7.24s\tremaining: 25.4s\n",
            "111:\tlearn: 0.6797322\ttotal: 7.31s\tremaining: 25.3s\n",
            "112:\tlearn: 0.6795917\ttotal: 7.44s\tremaining: 25.5s\n",
            "113:\tlearn: 0.6794393\ttotal: 7.57s\tremaining: 25.6s\n",
            "114:\tlearn: 0.6793046\ttotal: 7.7s\tremaining: 25.8s\n",
            "115:\tlearn: 0.6791917\ttotal: 7.85s\tremaining: 26s\n",
            "116:\tlearn: 0.6790908\ttotal: 7.98s\tremaining: 26.1s\n",
            "117:\tlearn: 0.6789905\ttotal: 8.09s\tremaining: 26.2s\n",
            "118:\tlearn: 0.6788696\ttotal: 8.21s\tremaining: 26.3s\n",
            "119:\tlearn: 0.6787108\ttotal: 8.33s\tremaining: 26.4s\n",
            "120:\tlearn: 0.6785917\ttotal: 8.55s\tremaining: 26.8s\n",
            "121:\tlearn: 0.6784851\ttotal: 8.65s\tremaining: 26.8s\n",
            "122:\tlearn: 0.6783896\ttotal: 8.71s\tremaining: 26.7s\n",
            "123:\tlearn: 0.6782463\ttotal: 8.77s\tremaining: 26.6s\n",
            "124:\tlearn: 0.6781347\ttotal: 8.85s\tremaining: 26.5s\n",
            "125:\tlearn: 0.6780139\ttotal: 8.93s\tremaining: 26.5s\n",
            "126:\tlearn: 0.6778712\ttotal: 9.01s\tremaining: 26.5s\n",
            "127:\tlearn: 0.6777688\ttotal: 9.08s\tremaining: 26.4s\n",
            "128:\tlearn: 0.6776684\ttotal: 9.16s\tremaining: 26.3s\n",
            "129:\tlearn: 0.6775634\ttotal: 9.2s\tremaining: 26.2s\n",
            "130:\tlearn: 0.6774452\ttotal: 9.28s\tremaining: 26.2s\n",
            "131:\tlearn: 0.6773321\ttotal: 9.35s\tremaining: 26.1s\n",
            "132:\tlearn: 0.6771955\ttotal: 9.41s\tremaining: 26s\n",
            "133:\tlearn: 0.6770962\ttotal: 9.55s\tremaining: 26.1s\n",
            "134:\tlearn: 0.6769763\ttotal: 9.62s\tremaining: 26s\n",
            "135:\tlearn: 0.6768509\ttotal: 9.68s\tremaining: 25.9s\n",
            "136:\tlearn: 0.6767566\ttotal: 9.77s\tremaining: 25.9s\n",
            "137:\tlearn: 0.6766155\ttotal: 9.87s\tremaining: 25.9s\n",
            "138:\tlearn: 0.6765263\ttotal: 9.92s\tremaining: 25.8s\n",
            "139:\tlearn: 0.6764242\ttotal: 10s\tremaining: 25.7s\n",
            "140:\tlearn: 0.6763023\ttotal: 10.1s\tremaining: 25.7s\n",
            "141:\tlearn: 0.6761817\ttotal: 10.2s\tremaining: 25.6s\n",
            "142:\tlearn: 0.6760268\ttotal: 10.3s\tremaining: 25.7s\n",
            "143:\tlearn: 0.6758760\ttotal: 10.4s\tremaining: 25.7s\n",
            "144:\tlearn: 0.6757954\ttotal: 10.5s\tremaining: 25.7s\n",
            "145:\tlearn: 0.6756896\ttotal: 10.6s\tremaining: 25.6s\n",
            "146:\tlearn: 0.6755318\ttotal: 10.6s\tremaining: 25.5s\n",
            "147:\tlearn: 0.6753315\ttotal: 10.7s\tremaining: 25.4s\n",
            "148:\tlearn: 0.6751719\ttotal: 10.8s\tremaining: 25.4s\n",
            "149:\tlearn: 0.6750414\ttotal: 10.8s\tremaining: 25.3s\n",
            "150:\tlearn: 0.6749148\ttotal: 10.9s\tremaining: 25.3s\n",
            "151:\tlearn: 0.6748058\ttotal: 11s\tremaining: 25.2s\n",
            "152:\tlearn: 0.6746988\ttotal: 11.1s\tremaining: 25.2s\n",
            "153:\tlearn: 0.6745732\ttotal: 11.2s\tremaining: 25.1s\n",
            "154:\tlearn: 0.6744445\ttotal: 11.3s\tremaining: 25.1s\n",
            "155:\tlearn: 0.6743489\ttotal: 11.3s\tremaining: 25s\n",
            "156:\tlearn: 0.6741988\ttotal: 11.4s\tremaining: 24.9s\n",
            "157:\tlearn: 0.6740776\ttotal: 11.4s\tremaining: 24.8s\n",
            "158:\tlearn: 0.6740044\ttotal: 11.5s\tremaining: 24.7s\n",
            "159:\tlearn: 0.6738715\ttotal: 11.6s\tremaining: 24.6s\n",
            "160:\tlearn: 0.6737194\ttotal: 11.6s\tremaining: 24.5s\n",
            "161:\tlearn: 0.6736143\ttotal: 11.7s\tremaining: 24.4s\n",
            "162:\tlearn: 0.6735255\ttotal: 11.7s\tremaining: 24.3s\n",
            "163:\tlearn: 0.6733982\ttotal: 11.8s\tremaining: 24.1s\n",
            "164:\tlearn: 0.6732679\ttotal: 11.8s\tremaining: 23.9s\n",
            "165:\tlearn: 0.6731419\ttotal: 11.8s\tremaining: 23.8s\n",
            "166:\tlearn: 0.6730452\ttotal: 11.9s\tremaining: 23.7s\n",
            "167:\tlearn: 0.6729127\ttotal: 11.9s\tremaining: 23.6s\n",
            "168:\tlearn: 0.6728169\ttotal: 12s\tremaining: 23.5s\n",
            "169:\tlearn: 0.6727196\ttotal: 12.1s\tremaining: 23.5s\n",
            "170:\tlearn: 0.6726044\ttotal: 12.2s\tremaining: 23.4s\n",
            "171:\tlearn: 0.6724875\ttotal: 12.3s\tremaining: 23.4s\n",
            "172:\tlearn: 0.6723577\ttotal: 12.4s\tremaining: 23.4s\n",
            "173:\tlearn: 0.6722251\ttotal: 12.4s\tremaining: 23.3s\n",
            "174:\tlearn: 0.6720880\ttotal: 12.6s\tremaining: 23.3s\n",
            "175:\tlearn: 0.6719802\ttotal: 12.7s\tremaining: 23.3s\n",
            "176:\tlearn: 0.6718610\ttotal: 12.8s\tremaining: 23.3s\n",
            "177:\tlearn: 0.6717308\ttotal: 12.9s\tremaining: 23.2s\n",
            "178:\tlearn: 0.6716149\ttotal: 12.9s\tremaining: 23.2s\n",
            "179:\tlearn: 0.6715054\ttotal: 13s\tremaining: 23.1s\n",
            "180:\tlearn: 0.6714293\ttotal: 13.1s\tremaining: 23.1s\n",
            "181:\tlearn: 0.6713274\ttotal: 13.2s\tremaining: 23.1s\n",
            "182:\tlearn: 0.6712152\ttotal: 13.3s\tremaining: 23s\n",
            "183:\tlearn: 0.6710816\ttotal: 13.4s\tremaining: 23s\n",
            "184:\tlearn: 0.6709591\ttotal: 13.4s\tremaining: 22.9s\n",
            "185:\tlearn: 0.6708529\ttotal: 13.5s\tremaining: 22.9s\n",
            "186:\tlearn: 0.6707083\ttotal: 13.6s\tremaining: 22.8s\n",
            "187:\tlearn: 0.6706104\ttotal: 13.7s\tremaining: 22.7s\n",
            "188:\tlearn: 0.6704838\ttotal: 13.7s\tremaining: 22.6s\n",
            "189:\tlearn: 0.6703432\ttotal: 13.8s\tremaining: 22.5s\n",
            "190:\tlearn: 0.6702378\ttotal: 13.8s\tremaining: 22.4s\n",
            "191:\tlearn: 0.6700908\ttotal: 13.9s\tremaining: 22.3s\n",
            "192:\tlearn: 0.6699872\ttotal: 14s\tremaining: 22.3s\n",
            "193:\tlearn: 0.6698584\ttotal: 14.1s\tremaining: 22.2s\n",
            "194:\tlearn: 0.6697489\ttotal: 14.2s\tremaining: 22.2s\n",
            "195:\tlearn: 0.6696424\ttotal: 14.3s\tremaining: 22.1s\n",
            "196:\tlearn: 0.6695114\ttotal: 14.4s\tremaining: 22.1s\n",
            "197:\tlearn: 0.6693827\ttotal: 14.5s\tremaining: 22.1s\n",
            "198:\tlearn: 0.6692791\ttotal: 14.6s\tremaining: 22.1s\n",
            "199:\tlearn: 0.6691209\ttotal: 14.7s\tremaining: 22s\n",
            "200:\tlearn: 0.6690023\ttotal: 14.8s\tremaining: 21.9s\n",
            "201:\tlearn: 0.6688920\ttotal: 14.8s\tremaining: 21.9s\n",
            "202:\tlearn: 0.6687649\ttotal: 14.9s\tremaining: 21.8s\n",
            "203:\tlearn: 0.6686962\ttotal: 15s\tremaining: 21.8s\n",
            "204:\tlearn: 0.6685505\ttotal: 15.1s\tremaining: 21.7s\n",
            "205:\tlearn: 0.6684350\ttotal: 15.2s\tremaining: 21.6s\n",
            "206:\tlearn: 0.6683264\ttotal: 15.2s\tremaining: 21.5s\n",
            "207:\tlearn: 0.6681969\ttotal: 15.3s\tremaining: 21.4s\n",
            "208:\tlearn: 0.6680645\ttotal: 15.3s\tremaining: 21.4s\n",
            "209:\tlearn: 0.6679652\ttotal: 15.4s\tremaining: 21.3s\n",
            "210:\tlearn: 0.6678434\ttotal: 15.5s\tremaining: 21.2s\n",
            "211:\tlearn: 0.6676959\ttotal: 15.6s\tremaining: 21.1s\n",
            "212:\tlearn: 0.6675657\ttotal: 15.7s\tremaining: 21.1s\n",
            "213:\tlearn: 0.6674520\ttotal: 15.7s\tremaining: 21s\n",
            "214:\tlearn: 0.6673413\ttotal: 15.8s\tremaining: 21s\n",
            "215:\tlearn: 0.6672390\ttotal: 15.9s\tremaining: 20.9s\n",
            "216:\tlearn: 0.6671326\ttotal: 16s\tremaining: 20.9s\n",
            "217:\tlearn: 0.6670073\ttotal: 16.1s\tremaining: 20.8s\n",
            "218:\tlearn: 0.6668963\ttotal: 16.1s\tremaining: 20.7s\n",
            "219:\tlearn: 0.6667877\ttotal: 16.2s\tremaining: 20.6s\n",
            "220:\tlearn: 0.6666503\ttotal: 16.2s\tremaining: 20.5s\n",
            "221:\tlearn: 0.6665155\ttotal: 16.3s\tremaining: 20.4s\n",
            "222:\tlearn: 0.6664310\ttotal: 16.3s\tremaining: 20.3s\n",
            "223:\tlearn: 0.6663080\ttotal: 16.4s\tremaining: 20.2s\n",
            "224:\tlearn: 0.6662196\ttotal: 16.5s\tremaining: 20.1s\n",
            "225:\tlearn: 0.6660872\ttotal: 16.5s\tremaining: 20s\n",
            "226:\tlearn: 0.6660126\ttotal: 16.6s\tremaining: 19.9s\n",
            "227:\tlearn: 0.6658663\ttotal: 16.6s\tremaining: 19.8s\n",
            "228:\tlearn: 0.6657850\ttotal: 16.6s\tremaining: 19.7s\n",
            "229:\tlearn: 0.6656872\ttotal: 16.7s\tremaining: 19.6s\n",
            "230:\tlearn: 0.6655817\ttotal: 16.7s\tremaining: 19.4s\n",
            "231:\tlearn: 0.6654465\ttotal: 16.7s\tremaining: 19.3s\n",
            "232:\tlearn: 0.6653135\ttotal: 16.8s\tremaining: 19.3s\n",
            "233:\tlearn: 0.6651865\ttotal: 16.9s\tremaining: 19.2s\n",
            "234:\tlearn: 0.6651130\ttotal: 16.9s\tremaining: 19.1s\n",
            "235:\tlearn: 0.6649976\ttotal: 17s\tremaining: 19s\n",
            "236:\tlearn: 0.6648893\ttotal: 17s\tremaining: 18.9s\n",
            "237:\tlearn: 0.6647993\ttotal: 17.1s\tremaining: 18.8s\n",
            "238:\tlearn: 0.6646977\ttotal: 17.1s\tremaining: 18.7s\n",
            "239:\tlearn: 0.6645572\ttotal: 17.2s\tremaining: 18.6s\n",
            "240:\tlearn: 0.6644383\ttotal: 17.2s\tremaining: 18.5s\n",
            "241:\tlearn: 0.6643164\ttotal: 17.3s\tremaining: 18.4s\n",
            "242:\tlearn: 0.6642127\ttotal: 17.4s\tremaining: 18.4s\n",
            "243:\tlearn: 0.6641245\ttotal: 17.5s\tremaining: 18.3s\n",
            "244:\tlearn: 0.6640192\ttotal: 17.6s\tremaining: 18.3s\n",
            "245:\tlearn: 0.6639313\ttotal: 17.6s\tremaining: 18.2s\n",
            "246:\tlearn: 0.6638586\ttotal: 17.7s\tremaining: 18.1s\n",
            "247:\tlearn: 0.6637495\ttotal: 17.7s\tremaining: 18s\n",
            "248:\tlearn: 0.6636123\ttotal: 17.8s\tremaining: 18s\n",
            "249:\tlearn: 0.6634554\ttotal: 17.9s\tremaining: 17.9s\n",
            "250:\tlearn: 0.6633003\ttotal: 17.9s\tremaining: 17.8s\n",
            "251:\tlearn: 0.6631827\ttotal: 18s\tremaining: 17.7s\n",
            "252:\tlearn: 0.6630942\ttotal: 18s\tremaining: 17.6s\n",
            "253:\tlearn: 0.6629937\ttotal: 18.1s\tremaining: 17.5s\n",
            "254:\tlearn: 0.6628589\ttotal: 18.2s\tremaining: 17.4s\n",
            "255:\tlearn: 0.6627747\ttotal: 18.2s\tremaining: 17.4s\n",
            "256:\tlearn: 0.6626444\ttotal: 18.3s\tremaining: 17.3s\n",
            "257:\tlearn: 0.6625791\ttotal: 18.3s\tremaining: 17.1s\n",
            "258:\tlearn: 0.6624800\ttotal: 18.3s\tremaining: 17s\n",
            "259:\tlearn: 0.6623722\ttotal: 18.3s\tremaining: 16.9s\n",
            "260:\tlearn: 0.6622524\ttotal: 18.4s\tremaining: 16.8s\n",
            "261:\tlearn: 0.6621714\ttotal: 18.4s\tremaining: 16.7s\n",
            "262:\tlearn: 0.6620850\ttotal: 18.4s\tremaining: 16.6s\n",
            "263:\tlearn: 0.6619612\ttotal: 18.5s\tremaining: 16.6s\n",
            "264:\tlearn: 0.6618648\ttotal: 18.6s\tremaining: 16.5s\n",
            "265:\tlearn: 0.6617452\ttotal: 18.6s\tremaining: 16.4s\n",
            "266:\tlearn: 0.6616435\ttotal: 18.7s\tremaining: 16.3s\n",
            "267:\tlearn: 0.6615091\ttotal: 18.7s\tremaining: 16.2s\n",
            "268:\tlearn: 0.6613965\ttotal: 18.8s\tremaining: 16.1s\n",
            "269:\tlearn: 0.6612751\ttotal: 18.8s\tremaining: 16.1s\n",
            "270:\tlearn: 0.6611458\ttotal: 18.9s\tremaining: 16s\n",
            "271:\tlearn: 0.6610399\ttotal: 19s\tremaining: 16s\n",
            "272:\tlearn: 0.6609330\ttotal: 19.1s\tremaining: 15.9s\n",
            "273:\tlearn: 0.6608220\ttotal: 19.3s\tremaining: 15.9s\n",
            "274:\tlearn: 0.6607023\ttotal: 19.4s\tremaining: 15.9s\n",
            "275:\tlearn: 0.6605776\ttotal: 19.5s\tremaining: 15.8s\n",
            "276:\tlearn: 0.6604626\ttotal: 19.6s\tremaining: 15.7s\n",
            "277:\tlearn: 0.6603874\ttotal: 19.6s\tremaining: 15.7s\n",
            "278:\tlearn: 0.6602860\ttotal: 19.7s\tremaining: 15.6s\n",
            "279:\tlearn: 0.6601711\ttotal: 19.8s\tremaining: 15.5s\n",
            "280:\tlearn: 0.6600557\ttotal: 19.8s\tremaining: 15.4s\n",
            "281:\tlearn: 0.6599706\ttotal: 19.8s\tremaining: 15.3s\n",
            "282:\tlearn: 0.6598468\ttotal: 19.9s\tremaining: 15.2s\n",
            "283:\tlearn: 0.6597268\ttotal: 19.9s\tremaining: 15.1s\n",
            "284:\tlearn: 0.6596320\ttotal: 20s\tremaining: 15.1s\n",
            "285:\tlearn: 0.6595258\ttotal: 20.1s\tremaining: 15s\n",
            "286:\tlearn: 0.6594125\ttotal: 20.1s\tremaining: 14.9s\n",
            "287:\tlearn: 0.6593426\ttotal: 20.2s\tremaining: 14.9s\n",
            "288:\tlearn: 0.6592668\ttotal: 20.2s\tremaining: 14.8s\n",
            "289:\tlearn: 0.6591123\ttotal: 20.3s\tremaining: 14.7s\n",
            "290:\tlearn: 0.6589972\ttotal: 20.4s\tremaining: 14.7s\n",
            "291:\tlearn: 0.6588952\ttotal: 20.5s\tremaining: 14.6s\n",
            "292:\tlearn: 0.6587796\ttotal: 20.6s\tremaining: 14.6s\n",
            "293:\tlearn: 0.6586366\ttotal: 20.7s\tremaining: 14.5s\n",
            "294:\tlearn: 0.6585295\ttotal: 20.8s\tremaining: 14.5s\n",
            "295:\tlearn: 0.6584253\ttotal: 20.9s\tremaining: 14.4s\n",
            "296:\tlearn: 0.6583193\ttotal: 21s\tremaining: 14.4s\n",
            "297:\tlearn: 0.6582139\ttotal: 21.2s\tremaining: 14.3s\n",
            "298:\tlearn: 0.6581009\ttotal: 21.2s\tremaining: 14.3s\n",
            "299:\tlearn: 0.6580272\ttotal: 21.3s\tremaining: 14.2s\n",
            "300:\tlearn: 0.6579079\ttotal: 21.4s\tremaining: 14.1s\n",
            "301:\tlearn: 0.6578338\ttotal: 21.4s\tremaining: 14s\n",
            "302:\tlearn: 0.6577421\ttotal: 21.4s\tremaining: 13.9s\n",
            "303:\tlearn: 0.6576167\ttotal: 21.5s\tremaining: 13.8s\n",
            "304:\tlearn: 0.6575000\ttotal: 21.5s\tremaining: 13.7s\n",
            "305:\tlearn: 0.6573912\ttotal: 21.5s\tremaining: 13.6s\n",
            "306:\tlearn: 0.6572796\ttotal: 21.5s\tremaining: 13.5s\n",
            "307:\tlearn: 0.6571603\ttotal: 21.5s\tremaining: 13.4s\n",
            "308:\tlearn: 0.6570560\ttotal: 21.6s\tremaining: 13.3s\n",
            "309:\tlearn: 0.6569397\ttotal: 21.6s\tremaining: 13.2s\n",
            "310:\tlearn: 0.6568411\ttotal: 21.7s\tremaining: 13.2s\n",
            "311:\tlearn: 0.6567281\ttotal: 21.8s\tremaining: 13.1s\n",
            "312:\tlearn: 0.6566287\ttotal: 21.9s\tremaining: 13.1s\n",
            "313:\tlearn: 0.6565426\ttotal: 21.9s\tremaining: 13s\n",
            "314:\tlearn: 0.6564283\ttotal: 22s\tremaining: 12.9s\n",
            "315:\tlearn: 0.6563395\ttotal: 22s\tremaining: 12.8s\n",
            "316:\tlearn: 0.6562671\ttotal: 22.1s\tremaining: 12.7s\n",
            "317:\tlearn: 0.6561367\ttotal: 22.1s\tremaining: 12.6s\n",
            "318:\tlearn: 0.6560752\ttotal: 22.1s\tremaining: 12.6s\n",
            "319:\tlearn: 0.6559930\ttotal: 22.1s\tremaining: 12.5s\n",
            "320:\tlearn: 0.6559112\ttotal: 22.2s\tremaining: 12.4s\n",
            "321:\tlearn: 0.6557932\ttotal: 22.2s\tremaining: 12.3s\n",
            "322:\tlearn: 0.6556766\ttotal: 22.2s\tremaining: 12.2s\n",
            "323:\tlearn: 0.6555856\ttotal: 22.2s\tremaining: 12.1s\n",
            "324:\tlearn: 0.6554818\ttotal: 22.3s\tremaining: 12s\n",
            "325:\tlearn: 0.6553691\ttotal: 22.4s\tremaining: 11.9s\n",
            "326:\tlearn: 0.6552656\ttotal: 22.4s\tremaining: 11.8s\n",
            "327:\tlearn: 0.6551659\ttotal: 22.4s\tremaining: 11.7s\n",
            "328:\tlearn: 0.6550518\ttotal: 22.4s\tremaining: 11.7s\n",
            "329:\tlearn: 0.6549675\ttotal: 22.4s\tremaining: 11.6s\n",
            "330:\tlearn: 0.6548567\ttotal: 22.5s\tremaining: 11.5s\n",
            "331:\tlearn: 0.6547701\ttotal: 22.5s\tremaining: 11.4s\n",
            "332:\tlearn: 0.6546812\ttotal: 22.5s\tremaining: 11.3s\n",
            "333:\tlearn: 0.6545680\ttotal: 22.5s\tremaining: 11.2s\n",
            "334:\tlearn: 0.6544740\ttotal: 22.6s\tremaining: 11.1s\n",
            "335:\tlearn: 0.6543748\ttotal: 22.6s\tremaining: 11s\n",
            "336:\tlearn: 0.6542805\ttotal: 22.6s\tremaining: 10.9s\n",
            "337:\tlearn: 0.6541655\ttotal: 22.6s\tremaining: 10.9s\n",
            "338:\tlearn: 0.6540448\ttotal: 22.7s\tremaining: 10.8s\n",
            "339:\tlearn: 0.6539644\ttotal: 22.7s\tremaining: 10.7s\n",
            "340:\tlearn: 0.6539016\ttotal: 22.8s\tremaining: 10.6s\n",
            "341:\tlearn: 0.6537903\ttotal: 22.8s\tremaining: 10.5s\n",
            "342:\tlearn: 0.6536561\ttotal: 22.8s\tremaining: 10.5s\n",
            "343:\tlearn: 0.6535583\ttotal: 22.9s\tremaining: 10.4s\n",
            "344:\tlearn: 0.6534514\ttotal: 22.9s\tremaining: 10.3s\n",
            "345:\tlearn: 0.6533252\ttotal: 22.9s\tremaining: 10.2s\n",
            "346:\tlearn: 0.6531996\ttotal: 22.9s\tremaining: 10.1s\n",
            "347:\tlearn: 0.6531146\ttotal: 23s\tremaining: 10s\n",
            "348:\tlearn: 0.6530318\ttotal: 23s\tremaining: 9.94s\n",
            "349:\tlearn: 0.6529395\ttotal: 23s\tremaining: 9.86s\n",
            "350:\tlearn: 0.6528271\ttotal: 23.1s\tremaining: 9.79s\n",
            "351:\tlearn: 0.6527441\ttotal: 23.1s\tremaining: 9.71s\n",
            "352:\tlearn: 0.6526385\ttotal: 23.1s\tremaining: 9.64s\n",
            "353:\tlearn: 0.6525231\ttotal: 23.2s\tremaining: 9.57s\n",
            "354:\tlearn: 0.6524452\ttotal: 23.3s\tremaining: 9.5s\n",
            "355:\tlearn: 0.6523509\ttotal: 23.3s\tremaining: 9.43s\n",
            "356:\tlearn: 0.6522446\ttotal: 23.3s\tremaining: 9.34s\n",
            "357:\tlearn: 0.6521703\ttotal: 23.4s\tremaining: 9.26s\n",
            "358:\tlearn: 0.6520485\ttotal: 23.4s\tremaining: 9.18s\n",
            "359:\tlearn: 0.6519356\ttotal: 23.4s\tremaining: 9.1s\n",
            "360:\tlearn: 0.6518188\ttotal: 23.4s\tremaining: 9.02s\n",
            "361:\tlearn: 0.6517144\ttotal: 23.4s\tremaining: 8.94s\n",
            "362:\tlearn: 0.6516198\ttotal: 23.5s\tremaining: 8.85s\n",
            "363:\tlearn: 0.6515281\ttotal: 23.5s\tremaining: 8.78s\n",
            "364:\tlearn: 0.6514138\ttotal: 23.5s\tremaining: 8.7s\n",
            "365:\tlearn: 0.6513223\ttotal: 23.5s\tremaining: 8.62s\n",
            "366:\tlearn: 0.6512274\ttotal: 23.6s\tremaining: 8.56s\n",
            "367:\tlearn: 0.6510999\ttotal: 23.7s\tremaining: 8.5s\n",
            "368:\tlearn: 0.6509920\ttotal: 23.7s\tremaining: 8.42s\n",
            "369:\tlearn: 0.6508931\ttotal: 23.8s\tremaining: 8.35s\n",
            "370:\tlearn: 0.6508108\ttotal: 23.8s\tremaining: 8.27s\n",
            "371:\tlearn: 0.6507353\ttotal: 23.8s\tremaining: 8.19s\n",
            "372:\tlearn: 0.6506308\ttotal: 23.8s\tremaining: 8.11s\n",
            "373:\tlearn: 0.6505782\ttotal: 23.8s\tremaining: 8.03s\n",
            "374:\tlearn: 0.6504893\ttotal: 23.9s\tremaining: 7.95s\n",
            "375:\tlearn: 0.6503823\ttotal: 23.9s\tremaining: 7.88s\n",
            "376:\tlearn: 0.6502549\ttotal: 23.9s\tremaining: 7.8s\n",
            "377:\tlearn: 0.6501581\ttotal: 24s\tremaining: 7.75s\n",
            "378:\tlearn: 0.6500768\ttotal: 24.1s\tremaining: 7.68s\n",
            "379:\tlearn: 0.6500207\ttotal: 24.1s\tremaining: 7.6s\n",
            "380:\tlearn: 0.6499530\ttotal: 24.1s\tremaining: 7.53s\n",
            "381:\tlearn: 0.6498821\ttotal: 24.1s\tremaining: 7.45s\n",
            "382:\tlearn: 0.6497782\ttotal: 24.2s\tremaining: 7.38s\n",
            "383:\tlearn: 0.6496893\ttotal: 24.2s\tremaining: 7.3s\n",
            "384:\tlearn: 0.6496241\ttotal: 24.2s\tremaining: 7.23s\n",
            "385:\tlearn: 0.6495124\ttotal: 24.2s\tremaining: 7.15s\n",
            "386:\tlearn: 0.6494238\ttotal: 24.2s\tremaining: 7.08s\n",
            "387:\tlearn: 0.6493490\ttotal: 24.3s\tremaining: 7s\n",
            "388:\tlearn: 0.6492740\ttotal: 24.3s\tremaining: 6.93s\n",
            "389:\tlearn: 0.6492203\ttotal: 24.3s\tremaining: 6.87s\n",
            "390:\tlearn: 0.6491039\ttotal: 24.4s\tremaining: 6.8s\n",
            "391:\tlearn: 0.6490070\ttotal: 24.5s\tremaining: 6.74s\n",
            "392:\tlearn: 0.6489327\ttotal: 24.5s\tremaining: 6.67s\n",
            "393:\tlearn: 0.6488356\ttotal: 24.5s\tremaining: 6.6s\n",
            "394:\tlearn: 0.6487646\ttotal: 24.6s\tremaining: 6.53s\n",
            "395:\tlearn: 0.6486674\ttotal: 24.6s\tremaining: 6.46s\n",
            "396:\tlearn: 0.6485756\ttotal: 24.6s\tremaining: 6.38s\n",
            "397:\tlearn: 0.6484793\ttotal: 24.6s\tremaining: 6.31s\n",
            "398:\tlearn: 0.6484054\ttotal: 24.6s\tremaining: 6.24s\n",
            "399:\tlearn: 0.6483136\ttotal: 24.7s\tremaining: 6.17s\n",
            "400:\tlearn: 0.6482355\ttotal: 24.7s\tremaining: 6.11s\n",
            "401:\tlearn: 0.6481411\ttotal: 24.8s\tremaining: 6.04s\n",
            "402:\tlearn: 0.6480619\ttotal: 24.8s\tremaining: 5.98s\n",
            "403:\tlearn: 0.6479711\ttotal: 24.9s\tremaining: 5.92s\n",
            "404:\tlearn: 0.6478932\ttotal: 25s\tremaining: 5.86s\n",
            "405:\tlearn: 0.6477942\ttotal: 25s\tremaining: 5.79s\n",
            "406:\tlearn: 0.6476911\ttotal: 25s\tremaining: 5.72s\n",
            "407:\tlearn: 0.6476179\ttotal: 25.1s\tremaining: 5.65s\n",
            "408:\tlearn: 0.6475282\ttotal: 25.1s\tremaining: 5.58s\n",
            "409:\tlearn: 0.6474454\ttotal: 25.1s\tremaining: 5.51s\n",
            "410:\tlearn: 0.6472956\ttotal: 25.1s\tremaining: 5.44s\n",
            "411:\tlearn: 0.6471880\ttotal: 25.1s\tremaining: 5.37s\n",
            "412:\tlearn: 0.6470680\ttotal: 25.2s\tremaining: 5.3s\n",
            "413:\tlearn: 0.6469797\ttotal: 25.2s\tremaining: 5.24s\n",
            "414:\tlearn: 0.6468793\ttotal: 25.3s\tremaining: 5.18s\n",
            "415:\tlearn: 0.6467969\ttotal: 25.4s\tremaining: 5.12s\n",
            "416:\tlearn: 0.6466965\ttotal: 25.4s\tremaining: 5.06s\n",
            "417:\tlearn: 0.6465994\ttotal: 25.5s\tremaining: 5s\n",
            "418:\tlearn: 0.6465606\ttotal: 25.5s\tremaining: 4.93s\n",
            "419:\tlearn: 0.6464722\ttotal: 25.5s\tremaining: 4.86s\n",
            "420:\tlearn: 0.6463739\ttotal: 25.5s\tremaining: 4.79s\n",
            "421:\tlearn: 0.6462633\ttotal: 25.6s\tremaining: 4.72s\n",
            "422:\tlearn: 0.6461680\ttotal: 25.6s\tremaining: 4.66s\n",
            "423:\tlearn: 0.6460550\ttotal: 25.6s\tremaining: 4.59s\n",
            "424:\tlearn: 0.6459755\ttotal: 25.6s\tremaining: 4.53s\n",
            "425:\tlearn: 0.6458995\ttotal: 25.7s\tremaining: 4.47s\n",
            "426:\tlearn: 0.6458144\ttotal: 25.8s\tremaining: 4.41s\n",
            "427:\tlearn: 0.6456839\ttotal: 25.9s\tremaining: 4.35s\n",
            "428:\tlearn: 0.6455497\ttotal: 25.9s\tremaining: 4.29s\n",
            "429:\tlearn: 0.6454865\ttotal: 25.9s\tremaining: 4.22s\n",
            "430:\tlearn: 0.6453460\ttotal: 25.9s\tremaining: 4.15s\n",
            "431:\tlearn: 0.6452518\ttotal: 26s\tremaining: 4.09s\n",
            "432:\tlearn: 0.6451821\ttotal: 26s\tremaining: 4.02s\n",
            "433:\tlearn: 0.6450835\ttotal: 26s\tremaining: 3.96s\n",
            "434:\tlearn: 0.6449915\ttotal: 26s\tremaining: 3.89s\n",
            "435:\tlearn: 0.6448623\ttotal: 26.1s\tremaining: 3.83s\n",
            "436:\tlearn: 0.6447955\ttotal: 26.1s\tremaining: 3.76s\n",
            "437:\tlearn: 0.6446824\ttotal: 26.1s\tremaining: 3.7s\n",
            "438:\tlearn: 0.6445834\ttotal: 26.2s\tremaining: 3.64s\n",
            "439:\tlearn: 0.6445012\ttotal: 26.3s\tremaining: 3.58s\n",
            "440:\tlearn: 0.6444283\ttotal: 26.4s\tremaining: 3.53s\n",
            "441:\tlearn: 0.6443597\ttotal: 26.4s\tremaining: 3.46s\n",
            "442:\tlearn: 0.6442331\ttotal: 26.4s\tremaining: 3.4s\n",
            "443:\tlearn: 0.6441486\ttotal: 26.4s\tremaining: 3.33s\n",
            "444:\tlearn: 0.6440350\ttotal: 26.5s\tremaining: 3.27s\n",
            "445:\tlearn: 0.6439178\ttotal: 26.5s\tremaining: 3.21s\n",
            "446:\tlearn: 0.6437932\ttotal: 26.5s\tremaining: 3.14s\n",
            "447:\tlearn: 0.6436832\ttotal: 26.5s\tremaining: 3.08s\n",
            "448:\tlearn: 0.6435689\ttotal: 26.6s\tremaining: 3.02s\n",
            "449:\tlearn: 0.6434896\ttotal: 26.6s\tremaining: 2.95s\n",
            "450:\tlearn: 0.6434347\ttotal: 26.6s\tremaining: 2.89s\n",
            "451:\tlearn: 0.6433511\ttotal: 26.7s\tremaining: 2.83s\n",
            "452:\tlearn: 0.6432622\ttotal: 26.7s\tremaining: 2.77s\n",
            "453:\tlearn: 0.6431521\ttotal: 26.8s\tremaining: 2.71s\n",
            "454:\tlearn: 0.6430758\ttotal: 26.8s\tremaining: 2.65s\n",
            "455:\tlearn: 0.6430035\ttotal: 26.8s\tremaining: 2.59s\n",
            "456:\tlearn: 0.6429162\ttotal: 26.9s\tremaining: 2.53s\n",
            "457:\tlearn: 0.6428508\ttotal: 26.9s\tremaining: 2.46s\n",
            "458:\tlearn: 0.6427881\ttotal: 26.9s\tremaining: 2.4s\n",
            "459:\tlearn: 0.6426884\ttotal: 26.9s\tremaining: 2.34s\n",
            "460:\tlearn: 0.6425799\ttotal: 26.9s\tremaining: 2.28s\n",
            "461:\tlearn: 0.6424911\ttotal: 27s\tremaining: 2.22s\n",
            "462:\tlearn: 0.6424396\ttotal: 27s\tremaining: 2.16s\n",
            "463:\tlearn: 0.6423607\ttotal: 27.1s\tremaining: 2.1s\n",
            "464:\tlearn: 0.6423076\ttotal: 27.1s\tremaining: 2.04s\n",
            "465:\tlearn: 0.6422222\ttotal: 27.2s\tremaining: 1.98s\n",
            "466:\tlearn: 0.6421440\ttotal: 27.2s\tremaining: 1.92s\n",
            "467:\tlearn: 0.6420423\ttotal: 27.3s\tremaining: 1.86s\n",
            "468:\tlearn: 0.6419382\ttotal: 27.3s\tremaining: 1.8s\n",
            "469:\tlearn: 0.6418579\ttotal: 27.3s\tremaining: 1.74s\n",
            "470:\tlearn: 0.6417617\ttotal: 27.3s\tremaining: 1.68s\n",
            "471:\tlearn: 0.6416597\ttotal: 27.4s\tremaining: 1.62s\n",
            "472:\tlearn: 0.6415990\ttotal: 27.4s\tremaining: 1.56s\n",
            "473:\tlearn: 0.6415149\ttotal: 27.4s\tremaining: 1.5s\n",
            "474:\tlearn: 0.6414111\ttotal: 27.4s\tremaining: 1.44s\n",
            "475:\tlearn: 0.6413291\ttotal: 27.5s\tremaining: 1.38s\n",
            "476:\tlearn: 0.6412398\ttotal: 27.5s\tremaining: 1.32s\n",
            "477:\tlearn: 0.6411549\ttotal: 27.5s\tremaining: 1.27s\n",
            "478:\tlearn: 0.6410678\ttotal: 27.6s\tremaining: 1.21s\n",
            "479:\tlearn: 0.6409759\ttotal: 27.7s\tremaining: 1.15s\n",
            "480:\tlearn: 0.6408838\ttotal: 27.7s\tremaining: 1.09s\n",
            "481:\tlearn: 0.6407903\ttotal: 27.8s\tremaining: 1.04s\n",
            "482:\tlearn: 0.6406860\ttotal: 27.8s\tremaining: 979ms\n",
            "483:\tlearn: 0.6406297\ttotal: 27.9s\tremaining: 921ms\n",
            "484:\tlearn: 0.6405295\ttotal: 27.9s\tremaining: 862ms\n",
            "485:\tlearn: 0.6404354\ttotal: 27.9s\tremaining: 804ms\n",
            "486:\tlearn: 0.6403551\ttotal: 27.9s\tremaining: 746ms\n",
            "487:\tlearn: 0.6402621\ttotal: 28s\tremaining: 688ms\n",
            "488:\tlearn: 0.6401830\ttotal: 28s\tremaining: 631ms\n",
            "489:\tlearn: 0.6401185\ttotal: 28.1s\tremaining: 573ms\n",
            "490:\tlearn: 0.6400554\ttotal: 28.1s\tremaining: 515ms\n",
            "491:\tlearn: 0.6399931\ttotal: 28.1s\tremaining: 457ms\n",
            "492:\tlearn: 0.6398778\ttotal: 28.1s\tremaining: 399ms\n",
            "493:\tlearn: 0.6397924\ttotal: 28.2s\tremaining: 342ms\n",
            "494:\tlearn: 0.6397359\ttotal: 28.2s\tremaining: 285ms\n",
            "495:\tlearn: 0.6396511\ttotal: 28.2s\tremaining: 227ms\n",
            "496:\tlearn: 0.6395858\ttotal: 28.2s\tremaining: 170ms\n",
            "497:\tlearn: 0.6394966\ttotal: 28.2s\tremaining: 113ms\n",
            "498:\tlearn: 0.6393776\ttotal: 28.3s\tremaining: 56.6ms\n",
            "499:\tlearn: 0.6393014\ttotal: 28.3s\tremaining: 0us\n"
          ]
        },
        {
          "output_type": "execute_result",
          "data": {
            "text/plain": [
              "<catboost.core.CatBoostClassifier at 0x79d07760f910>"
            ]
          },
          "metadata": {},
          "execution_count": 48
        }
      ]
    },
    {
      "cell_type": "code",
      "source": [
        "y_pred_catboost = model_catboost.predict(X_test)"
      ],
      "metadata": {
        "id": "5mbTHlXpBUh7"
      },
      "execution_count": null,
      "outputs": []
    },
    {
      "cell_type": "code",
      "source": [
        "print(\"CatBoost - Classification Report:\\n\", classification_report(y_test, y_pred_catboost))\n",
        "print(\"CatBoost - Confusion Matrix:\\n\", confusion_matrix(y_test, y_pred_catboost))"
      ],
      "metadata": {
        "colab": {
          "base_uri": "https://localhost:8080/"
        },
        "id": "OtOvJz_IBXrl",
        "outputId": "dfb18404-dc37-430e-c1e8-6d28e06ddeed"
      },
      "execution_count": null,
      "outputs": [
        {
          "output_type": "stream",
          "name": "stdout",
          "text": [
            "CatBoost - Classification Report:\n",
            "               precision    recall  f1-score   support\n",
            "\n",
            "           0       0.50      0.53      0.51     10020\n",
            "           1       0.50      0.47      0.48      9980\n",
            "\n",
            "    accuracy                           0.50     20000\n",
            "   macro avg       0.50      0.50      0.50     20000\n",
            "weighted avg       0.50      0.50      0.50     20000\n",
            "\n",
            "CatBoost - Confusion Matrix:\n",
            " [[5305 4715]\n",
            " [5317 4663]]\n"
          ]
        }
      ]
    },
    {
      "cell_type": "markdown",
      "source": [
        "Cross-Validation and Test Accuracy"
      ],
      "metadata": {
        "id": "LtndNWU2BodP"
      }
    },
    {
      "cell_type": "code",
      "source": [
        "from sklearn.neural_network import MLPClassifier\n",
        "from sklearn.model_selection import cross_val_score\n",
        "\n",
        "classifiers = {\n",
        "    'Random Forest': RandomForestClassifier(random_state=1),\n",
        "    'Logistic Regression': LogisticRegression(random_state=1),\n",
        "    'Neural Network': MLPClassifier(random_state=1),\n",
        "    'Naive Bayes': GaussianNB(),\n",
        "    'Decision Tree': DecisionTreeClassifier(random_state=1),\n",
        "    'XGBoost': XGBClassifier(random_state=1),\n",
        "    'CatBoost': CatBoostClassifier(random_state=1, verbose=0),\n",
        "}\n",
        "\n",
        "for name, clf in classifiers.items():\n",
        "    cv_scores = cross_val_score(clf, X_train, y_train, cv=5, scoring='accuracy')\n",
        "    print(f'{name} - Cross-Validation Accuracy: {np.mean(cv_scores):.4f} (+/- {np.std(cv_scores):.4f})')\n",
        "\n",
        "\n",
        "for name, clf in classifiers.items():\n",
        "    clf.fit(X_train, y_train)\n",
        "    y_pred = clf.predict(X_test)\n",
        "    accuracy = np.mean(y_pred == y_test)\n",
        "    print(f'{name} - Test Accuracy: {accuracy:.4f}')"
      ],
      "metadata": {
        "colab": {
          "base_uri": "https://localhost:8080/"
        },
        "id": "Y-UroPWFBvK6",
        "outputId": "609eea97-beef-413c-c4d9-b57bd2f60055"
      },
      "execution_count": null,
      "outputs": [
        {
          "output_type": "stream",
          "name": "stdout",
          "text": [
            "Random Forest - Cross-Validation Accuracy: 0.4979 (+/- 0.0029)\n",
            "Logistic Regression - Cross-Validation Accuracy: 0.5008 (+/- 0.0042)\n",
            "Neural Network - Cross-Validation Accuracy: 0.5000 (+/- 0.0021)\n",
            "Naive Bayes - Cross-Validation Accuracy: 0.5003 (+/- 0.0016)\n",
            "Decision Tree - Cross-Validation Accuracy: 0.4983 (+/- 0.0039)\n",
            "XGBoost - Cross-Validation Accuracy: 0.5029 (+/- 0.0059)\n",
            "CatBoost - Cross-Validation Accuracy: 0.4992 (+/- 0.0052)\n",
            "Random Forest - Test Accuracy: 0.4970\n",
            "Logistic Regression - Test Accuracy: 0.5034\n",
            "Neural Network - Test Accuracy: 0.4986\n",
            "Naive Bayes - Test Accuracy: 0.5012\n",
            "Decision Tree - Test Accuracy: 0.5056\n",
            "XGBoost - Test Accuracy: 0.4945\n",
            "CatBoost - Test Accuracy: 0.4985\n"
          ]
        }
      ]
    },
    {
      "cell_type": "code",
      "source": [
        "import pickle\n",
        "\n",
        "pickle.dump(rf, open(\"model.pkl\", 'wb'))"
      ],
      "metadata": {
        "id": "C_pDL-MWFDNF",
        "outputId": "7797d56f-34e3-496d-8560-533dd0f728be",
        "colab": {
          "base_uri": "https://localhost:8080/",
          "height": 216
        }
      },
      "execution_count": null,
      "outputs": [
        {
          "output_type": "error",
          "ename": "NameError",
          "evalue": "ignored",
          "traceback": [
            "\u001b[0;31m---------------------------------------------------------------------------\u001b[0m",
            "\u001b[0;31mNameError\u001b[0m                                 Traceback (most recent call last)",
            "\u001b[0;32m<ipython-input-65-5b640a34dda7>\u001b[0m in \u001b[0;36m<cell line: 3>\u001b[0;34m()\u001b[0m\n\u001b[1;32m      1\u001b[0m \u001b[0;32mimport\u001b[0m \u001b[0mpickle\u001b[0m\u001b[0;34m\u001b[0m\u001b[0;34m\u001b[0m\u001b[0m\n\u001b[1;32m      2\u001b[0m \u001b[0;34m\u001b[0m\u001b[0m\n\u001b[0;32m----> 3\u001b[0;31m \u001b[0mpickle\u001b[0m\u001b[0;34m.\u001b[0m\u001b[0mdump\u001b[0m\u001b[0;34m(\u001b[0m\u001b[0mrf\u001b[0m\u001b[0;34m,\u001b[0m \u001b[0mopen\u001b[0m\u001b[0;34m(\u001b[0m\u001b[0;34m\"model.pkl\"\u001b[0m\u001b[0;34m,\u001b[0m \u001b[0;34m'wb'\u001b[0m\u001b[0;34m)\u001b[0m\u001b[0;34m)\u001b[0m\u001b[0;34m\u001b[0m\u001b[0;34m\u001b[0m\u001b[0m\n\u001b[0m",
            "\u001b[0;31mNameError\u001b[0m: name 'rf' is not defined"
          ]
        }
      ]
    }
  ]
}